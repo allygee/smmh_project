{
 "cells": [
  {
   "cell_type": "markdown",
   "metadata": {},
   "source": [
    "Social media and mental health correlations. \n",
    "\n",
    "In this project, I will use preexisting data provided by a research project for the Statistics Course STA-2101 for the University of Liberal Arts Bangladesh (ULAB). Submitted to - Khan Raqib Mahmud. Submitted by - Souvik Ahmed (203014004) and Muhesena Nasiha Syeda (203014015)."
   ]
  },
  {
   "cell_type": "code",
   "execution_count": 5,
   "metadata": {},
   "outputs": [],
   "source": [
    "#import libraries needed to run analysis and visualise the data\n",
    "import pandas as pd \n",
    "import numpy as np\n",
    "import matplotlib as plt\n",
    "import seaborn as sns"
   ]
  },
  {
   "cell_type": "markdown",
   "metadata": {},
   "source": [
    "Now that I've imported the libraries I need, I shall fetch the data and start pre processing the data."
   ]
  },
  {
   "cell_type": "code",
   "execution_count": 4,
   "metadata": {},
   "outputs": [
    {
     "ename": "NameError",
     "evalue": "name 'filepath' is not defined",
     "output_type": "error",
     "traceback": [
      "\u001b[0;31m---------------------------------------------------------------------------\u001b[0m",
      "\u001b[0;31mNameError\u001b[0m                                 Traceback (most recent call last)",
      "\u001b[1;32m/Users/alexandragilbert/Desktop/python_projects/Social Media Mental Health/smmh_project/Social Media Mental Heallth Notebook.ipynb Cell 4\u001b[0m line \u001b[0;36m1\n\u001b[0;32m----> <a href='vscode-notebook-cell:/Users/alexandragilbert/Desktop/python_projects/Social%20Media%20Mental%20Health/smmh_project/Social%20Media%20Mental%20Heallth%20Notebook.ipynb#W3sZmlsZQ%3D%3D?line=0'>1</a>\u001b[0m rawdata \u001b[39m=\u001b[39m pd\u001b[39m.\u001b[39mread_csv(filepath)\n\u001b[1;32m      <a href='vscode-notebook-cell:/Users/alexandragilbert/Desktop/python_projects/Social%20Media%20Mental%20Health/smmh_project/Social%20Media%20Mental%20Heallth%20Notebook.ipynb#W3sZmlsZQ%3D%3D?line=1'>2</a>\u001b[0m rawdata\u001b[39m.\u001b[39mhead()\n",
      "\u001b[0;31mNameError\u001b[0m: name 'filepath' is not defined"
     ]
    }
   ],
   "source": [
    "rawdata = pd.read_csv('filepath')\n",
    "rawdata.head()"
   ]
  },
  {
   "cell_type": "markdown",
   "metadata": {},
   "source": [
    "## Cleaning and Organising the data\n",
    "\n",
    "Firstly, I don't need the timestamp data, so I'll remove that from the dataset. Then, to create an easy-to-use dataset, I would like to rename all the columns to workable titles and sort the question data into chronological order."
   ]
  },
  {
   "cell_type": "code",
   "execution_count": 29,
   "metadata": {},
   "outputs": [
    {
     "data": {
      "text/html": [
       "<div>\n",
       "<style scoped>\n",
       "    .dataframe tbody tr th:only-of-type {\n",
       "        vertical-align: middle;\n",
       "    }\n",
       "\n",
       "    .dataframe tbody tr th {\n",
       "        vertical-align: top;\n",
       "    }\n",
       "\n",
       "    .dataframe thead th {\n",
       "        text-align: right;\n",
       "    }\n",
       "</style>\n",
       "<table border=\"1\" class=\"dataframe\">\n",
       "  <thead>\n",
       "    <tr style=\"text-align: right;\">\n",
       "      <th></th>\n",
       "      <th>Age</th>\n",
       "      <th>Sex</th>\n",
       "      <th>Relationship Status</th>\n",
       "      <th>Occupation</th>\n",
       "      <th>Affiliations</th>\n",
       "      <th>Use Social Media</th>\n",
       "      <th>Platforms Used</th>\n",
       "      <th>Time Spent</th>\n",
       "      <th>Anxiety Q1</th>\n",
       "      <th>Anxiety Q2</th>\n",
       "      <th>Attention Q1</th>\n",
       "      <th>Attention Q2</th>\n",
       "      <th>Attention Q3</th>\n",
       "      <th>Attention Q4</th>\n",
       "      <th>Depression Q1</th>\n",
       "      <th>Depression Q2</th>\n",
       "      <th>Depression Q3</th>\n",
       "      <th>Self Esteem Q1</th>\n",
       "      <th>Self Esteem Q2</th>\n",
       "      <th>Self Esteem Q3</th>\n",
       "    </tr>\n",
       "  </thead>\n",
       "  <tbody>\n",
       "    <tr>\n",
       "      <th>0</th>\n",
       "      <td>21.0</td>\n",
       "      <td>Male</td>\n",
       "      <td>In a relationship</td>\n",
       "      <td>University Student</td>\n",
       "      <td>University</td>\n",
       "      <td>Yes</td>\n",
       "      <td>Facebook, Twitter, Instagram, YouTube, Discord...</td>\n",
       "      <td>Between 2 and 3 hours</td>\n",
       "      <td>2</td>\n",
       "      <td>2</td>\n",
       "      <td>5</td>\n",
       "      <td>3</td>\n",
       "      <td>5</td>\n",
       "      <td>5</td>\n",
       "      <td>5</td>\n",
       "      <td>4</td>\n",
       "      <td>5</td>\n",
       "      <td>2</td>\n",
       "      <td>3</td>\n",
       "      <td>2</td>\n",
       "    </tr>\n",
       "    <tr>\n",
       "      <th>1</th>\n",
       "      <td>21.0</td>\n",
       "      <td>Female</td>\n",
       "      <td>Single</td>\n",
       "      <td>University Student</td>\n",
       "      <td>University</td>\n",
       "      <td>Yes</td>\n",
       "      <td>Facebook, Twitter, Instagram, YouTube, Discord...</td>\n",
       "      <td>More than 5 hours</td>\n",
       "      <td>2</td>\n",
       "      <td>5</td>\n",
       "      <td>4</td>\n",
       "      <td>3</td>\n",
       "      <td>4</td>\n",
       "      <td>4</td>\n",
       "      <td>5</td>\n",
       "      <td>4</td>\n",
       "      <td>5</td>\n",
       "      <td>5</td>\n",
       "      <td>1</td>\n",
       "      <td>1</td>\n",
       "    </tr>\n",
       "    <tr>\n",
       "      <th>2</th>\n",
       "      <td>21.0</td>\n",
       "      <td>Female</td>\n",
       "      <td>Single</td>\n",
       "      <td>University Student</td>\n",
       "      <td>University</td>\n",
       "      <td>Yes</td>\n",
       "      <td>Facebook, Instagram, YouTube, Pinterest</td>\n",
       "      <td>Between 3 and 4 hours</td>\n",
       "      <td>1</td>\n",
       "      <td>5</td>\n",
       "      <td>3</td>\n",
       "      <td>2</td>\n",
       "      <td>2</td>\n",
       "      <td>4</td>\n",
       "      <td>4</td>\n",
       "      <td>2</td>\n",
       "      <td>5</td>\n",
       "      <td>3</td>\n",
       "      <td>3</td>\n",
       "      <td>1</td>\n",
       "    </tr>\n",
       "    <tr>\n",
       "      <th>3</th>\n",
       "      <td>21.0</td>\n",
       "      <td>Female</td>\n",
       "      <td>Single</td>\n",
       "      <td>University Student</td>\n",
       "      <td>University</td>\n",
       "      <td>Yes</td>\n",
       "      <td>Facebook, Instagram</td>\n",
       "      <td>More than 5 hours</td>\n",
       "      <td>1</td>\n",
       "      <td>5</td>\n",
       "      <td>4</td>\n",
       "      <td>2</td>\n",
       "      <td>3</td>\n",
       "      <td>3</td>\n",
       "      <td>4</td>\n",
       "      <td>3</td>\n",
       "      <td>2</td>\n",
       "      <td>5</td>\n",
       "      <td>1</td>\n",
       "      <td>2</td>\n",
       "    </tr>\n",
       "    <tr>\n",
       "      <th>4</th>\n",
       "      <td>21.0</td>\n",
       "      <td>Female</td>\n",
       "      <td>Single</td>\n",
       "      <td>University Student</td>\n",
       "      <td>University</td>\n",
       "      <td>Yes</td>\n",
       "      <td>Facebook, Instagram, YouTube</td>\n",
       "      <td>Between 2 and 3 hours</td>\n",
       "      <td>4</td>\n",
       "      <td>5</td>\n",
       "      <td>3</td>\n",
       "      <td>5</td>\n",
       "      <td>4</td>\n",
       "      <td>5</td>\n",
       "      <td>4</td>\n",
       "      <td>4</td>\n",
       "      <td>1</td>\n",
       "      <td>3</td>\n",
       "      <td>3</td>\n",
       "      <td>3</td>\n",
       "    </tr>\n",
       "  </tbody>\n",
       "</table>\n",
       "</div>"
      ],
      "text/plain": [
       "    Age     Sex Relationship Status          Occupation Affiliations  \\\n",
       "0  21.0    Male   In a relationship  University Student   University   \n",
       "1  21.0  Female              Single  University Student   University   \n",
       "2  21.0  Female              Single  University Student   University   \n",
       "3  21.0  Female              Single  University Student   University   \n",
       "4  21.0  Female              Single  University Student   University   \n",
       "\n",
       "  Use Social Media                                     Platforms Used  \\\n",
       "0              Yes  Facebook, Twitter, Instagram, YouTube, Discord...   \n",
       "1              Yes  Facebook, Twitter, Instagram, YouTube, Discord...   \n",
       "2              Yes            Facebook, Instagram, YouTube, Pinterest   \n",
       "3              Yes                                Facebook, Instagram   \n",
       "4              Yes                       Facebook, Instagram, YouTube   \n",
       "\n",
       "              Time Spent  Anxiety Q1  Anxiety Q2  Attention Q1  Attention Q2  \\\n",
       "0  Between 2 and 3 hours           2           2             5             3   \n",
       "1      More than 5 hours           2           5             4             3   \n",
       "2  Between 3 and 4 hours           1           5             3             2   \n",
       "3      More than 5 hours           1           5             4             2   \n",
       "4  Between 2 and 3 hours           4           5             3             5   \n",
       "\n",
       "   Attention Q3  Attention Q4  Depression Q1  Depression Q2  Depression Q3  \\\n",
       "0             5             5              5              4              5   \n",
       "1             4             4              5              4              5   \n",
       "2             2             4              4              2              5   \n",
       "3             3             3              4              3              2   \n",
       "4             4             5              4              4              1   \n",
       "\n",
       "   Self Esteem Q1  Self Esteem Q2  Self Esteem Q3  \n",
       "0               2               3               2  \n",
       "1               5               1               1  \n",
       "2               3               3               1  \n",
       "3               5               1               2  \n",
       "4               3               3               3  "
      ]
     },
     "execution_count": 29,
     "metadata": {},
     "output_type": "execute_result"
    }
   ],
   "source": [
    "#deleting timestamp column \n",
    "notimedata = rawdata.drop(['Timestamp'], axis=1)\n",
    "\n",
    "#rename the columns for useability. \n",
    "#Let's create a new data frame: \n",
    "newdata = pd.DataFrame(notimedata)\n",
    "newdata.columns = ['Age', 'Sex', 'Relationship Status', \n",
    "                   'Occupation', 'Affiliations', \n",
    "                   'Use Social Media', 'Platforms Used', 'Time Spent', \n",
    "                   'Attention Q1', 'Attention Q2', 'Anxiety Q1', \n",
    "                   'Attention Q3', 'Anxiety Q2', 'Attention Q4', \n",
    "                   'Self Esteem Q1', 'Self Esteem Q2', 'Self Esteem Q3', \n",
    "                   'Depression Q1', 'Depression Q2', 'Depression Q3'\n",
    "                   ]\n",
    "\n",
    "\n",
    "#Checking that the titles are correct\n",
    "newdata.head()\n",
    "list(newdata.columns)\n",
    "\n",
    "#Sorting the data so that the questions are in alphabetical and chronological order\n",
    "#Create two data frames, one with demographic data (first object) and the other with questions that are sorted by column. \n",
    "\n",
    "data = pd.concat([newdata[['Age', 'Sex', 'Relationship Status', \n",
    "                   'Occupation', 'Affiliations', \n",
    "                   'Use Social Media', 'Platforms Used', 'Time Spent',]], \n",
    "                  newdata[['Attention Q1', 'Attention Q2', 'Anxiety Q1', \n",
    "                   'Attention Q3', 'Anxiety Q2', 'Attention Q4', \n",
    "                   'Self Esteem Q1', 'Self Esteem Q2', 'Self Esteem Q3', \n",
    "                   'Depression Q1', 'Depression Q2', 'Depression Q3']].sort_index(axis=1)], \n",
    "                 ignore_index=False,axis=1)\n",
    "data.head()\n",
    "\n",
    "#Just in case, I manually checked the first entry of the new df to the original raw data to ensure that the scores matched the original dataset. We're all good!"
   ]
  },
  {
   "cell_type": "markdown",
   "metadata": {},
   "source": [
    "### Checking for blank data\n",
    "\n",
    "Looking for NaNs!"
   ]
  },
  {
   "cell_type": "code",
   "execution_count": 31,
   "metadata": {},
   "outputs": [
    {
     "data": {
      "text/plain": [
       "(array([ 17,  24,  42,  47,  63,  64,  74,  80,  85,  97, 108, 128, 162,\n",
       "        166, 173, 194, 214, 219, 238, 251, 260, 322, 326, 364, 377, 399,\n",
       "        425, 428, 453, 473]),\n",
       " array([4, 4, 4, 4, 4, 4, 4, 4, 4, 4, 4, 4, 4, 4, 4, 4, 4, 4, 4, 4, 4, 4,\n",
       "        4, 4, 4, 4, 4, 4, 4, 4]))"
      ]
     },
     "execution_count": 31,
     "metadata": {},
     "output_type": "execute_result"
    }
   ],
   "source": [
    "#Finding the rows and columns that have null values.\n",
    "np.where(pd.isnull(data))\n"
   ]
  },
  {
   "cell_type": "markdown",
   "metadata": {},
   "source": [
    "Looks like we have missing values in the 'Affiliations' column. \n",
    "\n",
    "Since the rest of the \"Affiliations\" data is a string, I'm going to replace all the NaNs with 'Unknown'"
   ]
  },
  {
   "cell_type": "code",
   "execution_count": 34,
   "metadata": {},
   "outputs": [
    {
     "data": {
      "text/plain": [
       "(array([], dtype=int64), array([], dtype=int64))"
      ]
     },
     "execution_count": 34,
     "metadata": {},
     "output_type": "execute_result"
    }
   ],
   "source": [
    "#Replace NaNs with \"Unknown\"\n",
    "data = data.fillna('Unknown')\n",
    "#Check that we don't have NaNs it's worked. \n",
    "np.where(pd.isnull(data))\n"
   ]
  }
 ],
 "metadata": {
  "kernelspec": {
   "display_name": "myenv",
   "language": "python",
   "name": "python3"
  },
  "language_info": {
   "codemirror_mode": {
    "name": "ipython",
    "version": 3
   },
   "file_extension": ".py",
   "mimetype": "text/x-python",
   "name": "python",
   "nbconvert_exporter": "python",
   "pygments_lexer": "ipython3",
   "version": "3.11.5"
  }
 },
 "nbformat": 4,
 "nbformat_minor": 2
}
