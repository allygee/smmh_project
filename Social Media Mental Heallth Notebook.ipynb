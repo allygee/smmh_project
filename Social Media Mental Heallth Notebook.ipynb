{
 "cells": [
  {
   "cell_type": "markdown",
   "metadata": {},
   "source": [
    "# Social media and mental health correlation project\n",
    "\n"
   ]
  },
  {
   "cell_type": "markdown",
   "metadata": {},
   "source": [
    "## Mental Health and Social Media - A growing problem"
   ]
  },
  {
   "cell_type": "markdown",
   "metadata": {},
   "source": [
    "## Data sources and Structure"
   ]
  },
  {
   "cell_type": "markdown",
   "metadata": {},
   "source": [
    "In this project, I will a preexisting CSV file data provided by a research project for the Statistics Course STA-2101 for the University of Liberal Arts Bangladesh (ULAB). Submitted to - Khan Raqib Mahmud. Submitted by - Souvik Ahmed (203014004) and Muhesena Nasiha Syeda (203014015). \n",
    "\n",
    "Found on Kaggle Databases.\n",
    "kaggle.com"
   ]
  },
  {
   "cell_type": "code",
   "execution_count": null,
   "metadata": {},
   "outputs": [],
   "source": [
    "#import libraries needed to run analysis and visualise the data\n",
    "import pandas as pd #data manipultation\n",
    "import numpy as np #maths stuff\n",
    "import scipy.stats as stats #stats \n",
    "import matplotlib.pyplot as plt #visualisation\n",
    "import seaborn as sns #visualisation"
   ]
  },
  {
   "cell_type": "markdown",
   "metadata": {},
   "source": [
    "Now that I've imported the libraries I need, I shall fetch the data and start pre processing the data."
   ]
  },
  {
   "cell_type": "code",
   "execution_count": null,
   "metadata": {},
   "outputs": [],
   "source": [
    "#I've created a separate filepath.py function to record my directory. \n",
    "from filepath import filepath\n",
    "#read the data - \"filepath\" should be replaced with the directory you store the smmh.csv file on your own device.\n",
    "rawdata = pd.read_csv(filepath)\n",
    "rawdata.head()"
   ]
  },
  {
   "cell_type": "markdown",
   "metadata": {},
   "source": [
    "## Data Cleaning and Transformation\n",
    "\n"
   ]
  },
  {
   "cell_type": "markdown",
   "metadata": {},
   "source": [
    "### Unecessary columns\n",
    "Firstly, I don't need the timestamp data, so I'll remove that from the dataset. Then, to create an easy-to-use dataset, I would like to rename all the columns to workable titles and sort the question data into chronological order."
   ]
  },
  {
   "cell_type": "code",
   "execution_count": null,
   "metadata": {},
   "outputs": [],
   "source": [
    "#deleting timestamp column \n",
    "notimedata = rawdata.drop(['Timestamp'], axis=1)\n",
    "\n",
    "#rename the columns for useability. \n",
    "#Let's create a new data frame: \n",
    "newdata = pd.DataFrame(notimedata)\n",
    "newdata.columns = ['Age', 'Gender', 'Relationship Status', \n",
    "                   'Occupation', 'Affiliations', \n",
    "                   'Use Social Media', 'Platforms Used', 'Time Spent', \n",
    "                   'Attention Q1', 'Attention Q2', 'Anxiety Q1', \n",
    "                   'Attention Q3', 'Anxiety Q2', 'Attention Q4', \n",
    "                   'Self Esteem Q1', 'Self Esteem Q2', 'Self Esteem Q3', \n",
    "                   'Depression Q1', 'Depression Q2', 'Depression Q3'\n",
    "                   ]\n",
    "\n",
    "\n",
    "#Checking that the titles are correct\n",
    "newdata.head()\n",
    "list(newdata.columns)\n",
    "\n",
    "#Sorting the data so that the questions are in alphabetical and chronological order\n",
    "#Create two data frames, one with demographic data (first object) and the other with questions that are sorted by column. \n",
    "\n",
    "data = pd.concat([newdata[['Age', 'Gender', 'Relationship Status', \n",
    "                   'Occupation', 'Affiliations', \n",
    "                   'Use Social Media', 'Platforms Used', 'Time Spent',]], \n",
    "                  newdata[['Attention Q1', 'Attention Q2', 'Anxiety Q1', \n",
    "                   'Attention Q3', 'Anxiety Q2', 'Attention Q4', \n",
    "                   'Self Esteem Q1', 'Self Esteem Q2', 'Self Esteem Q3', \n",
    "                   'Depression Q1', 'Depression Q2', 'Depression Q3']].sort_index(axis=1)], \n",
    "                 ignore_index=False,axis=1)\n",
    "data.head()\n",
    "\n",
    "#Just in case, manually check the first entry of the new df to the original raw data to ensure that the scores matched the original dataset. We're all good!"
   ]
  },
  {
   "cell_type": "markdown",
   "metadata": {},
   "source": [
    "### Finding and filling blank values\n",
    "\n",
    "Looking for NaNs!"
   ]
  },
  {
   "cell_type": "code",
   "execution_count": null,
   "metadata": {},
   "outputs": [],
   "source": [
    "#Finding the rows and columns that have null values.\n",
    "np.where(pd.isnull(data))"
   ]
  },
  {
   "cell_type": "markdown",
   "metadata": {},
   "source": [
    "Looks like we have missing values in the 'Affiliations' column. \n",
    "\n",
    "Since the rest of the \"Affiliations\" data is a string, I'm going to replace all the NaNs with 'Unknown'"
   ]
  },
  {
   "cell_type": "code",
   "execution_count": null,
   "metadata": {},
   "outputs": [],
   "source": [
    "#Replace NaNs with \"Unknown\"\n",
    "data = data.fillna('Unknown')\n",
    "#Check that we don't have NaNs\n",
    "np.where(pd.isnull(data))"
   ]
  },
  {
   "cell_type": "markdown",
   "metadata": {},
   "source": [
    "### Checking the validity of responses\n",
    "\n",
    "To make sure that the data shows participants that haven't created odd entries, let's check the responses for the fields that require manual input. Where 'Other' was selected, let's see what people have said. "
   ]
  },
  {
   "cell_type": "code",
   "execution_count": null,
   "metadata": {},
   "outputs": [],
   "source": [
    "#What are the unique values in my dataset and are they super weird / to be excluded? \n",
    "for col in data: \n",
    "    print(data[col].unique())"
   ]
  },
  {
   "cell_type": "markdown",
   "metadata": {},
   "source": [
    "The 'Gender' data needs attention.\n",
    "\n",
    "Looks like we have two changes to make in the 'Gender' column: \n",
    "1. Exclude the participant data that gave the \"There are others???\" response\n",
    "2. Change the names of Non-binary entries to have the same format: \"Non-binary\""
   ]
  },
  {
   "cell_type": "code",
   "execution_count": null,
   "metadata": {},
   "outputs": [],
   "source": [
    "# Dropping the entry \"There are others???\" entry\n",
    "data.drop(data.loc[data['Gender']==\"There are others???\"].index, inplace=True)\n",
    "\n",
    "#Renaming the indices: Nonbinary, NB, Non binary\n",
    "data['Gender'].replace(['Nonbinary ', 'NB', 'Non binary ', 'unsure ', 'Trans', 'Non-binary'], \n",
    "                    ['Other', 'Other', 'Other', 'Other', 'Other', 'Other'], inplace=True)\n",
    "\n",
    "#check that it worked\n",
    "print(data['Gender'].unique())"
   ]
  },
  {
   "cell_type": "markdown",
   "metadata": {},
   "source": [
    "The 'Age' column is a float. So let's convert that."
   ]
  },
  {
   "cell_type": "code",
   "execution_count": null,
   "metadata": {},
   "outputs": [],
   "source": [
    "#convert float to int\n",
    "data['Age'] = data['Age'].astype(int)\n",
    "\n",
    "#check\n",
    "display(data['Age'].dtypes)"
   ]
  },
  {
   "cell_type": "markdown",
   "metadata": {},
   "source": [
    "### Making our data more readable\n",
    "\n",
    "1. The \"Time Spent\" on social media values are long. \n",
    "2. It'd also be helpful to create a new column for \"Time Spent\" that's an integer of the mean time spent for further analysis and modelling later.\n"
   ]
  },
  {
   "cell_type": "code",
   "execution_count": null,
   "metadata": {},
   "outputs": [],
   "source": [
    "#Create more readable values\n",
    "data['Time Spent'].replace(['Between 2 and 3 hours', 'More than 5 hours', 'Between 3 and 4 hours',\n",
    " 'Less than an Hour', 'Between 1 and 2 hours', 'Between 4 and 5 hours'], \n",
    "                           ['2-3 hours', '>5 hours', '3-4 hours', '<1 hour', '1-2 hours', '4-5 hours'], \n",
    "                           inplace=True)\n",
    "\n",
    "#check \n",
    "print(data['Time Spent'].unique())\n",
    "\n",
    "#Create a column of time spent as an integer.\n",
    "#Specify conditions for our new time values to be assigned.\n",
    "conditions = [\n",
    "    (data['Time Spent'] == '<1 hour'),\n",
    "    (data['Time Spent'] == '1-2 hours'),\n",
    "    (data['Time Spent'] == '2-3 hours'),\n",
    "    (data['Time Spent'] == '3-4 hours'), \n",
    "    (data['Time Spent'] == '4-5 hours'), \n",
    "    (data['Time Spent'] == '>5 hours'), \n",
    "]\n",
    "     \n",
    "#Creating time values using the upper bounds of the range given (to avoid using 0 on the <1 values)\n",
    "time_values = [1, 2, 3, 4, 5, 6]\n",
    "\n",
    "#Create a new column for Time Spent with our new values for each categorical time slot.\n",
    "data['Time (hrs)'] = np.select(conditions, time_values)\n",
    "data.head()\n",
    "\n",
    "#Check that no weird values have popped up\n",
    "print(data['Time (hrs)'].unique())\n"
   ]
  },
  {
   "cell_type": "markdown",
   "metadata": {},
   "source": [
    "### Platforms used\n",
    "\n",
    "Does the number of social media platforms used affect mental health scores? \n",
    "\n",
    "Assuming that the more time we spend on social media, the more likely we are to use other platforms. \n",
    "\n",
    "To find out if there's a relationship there, we need to first create a column for the number of platforms the participants use:"
   ]
  },
  {
   "cell_type": "code",
   "execution_count": null,
   "metadata": {},
   "outputs": [],
   "source": [
    "#Creating a new column 'platform count' where we are counting the platforms used, \n",
    "#by using a function that splits the strings within the column.\n",
    "data['Platform Count'] = data['Platforms Used'].apply(lambda x: len(x.split()))\n",
    "data.head()"
   ]
  },
  {
   "cell_type": "markdown",
   "metadata": {},
   "source": [
    "### Mental Health Scoring\n",
    "\n",
    "We have multiple changes to make to our mental health scoring data:\n",
    "\n",
    "1. One mental health questionnaire needs to be tranformed to reflect an accurate mental health score. \n",
    "2. Creating total questionnaire scores\n",
    "3. Creating a total (overall) mental health score from all the questionnaires\n",
    "4. Adding a mental health score \"Outcome\" column which will indicate whether a participant is experiencing severe mental health symptoms or not."
   ]
  },
  {
   "cell_type": "markdown",
   "metadata": {},
   "source": [
    "**Self esteem Question 2**\n",
    "\n",
    "Our assumption is that higher scores indicate negatively affected mental health. Self esteem question 2 works in reverse, where higher scores are associated with positive mental health. So, we need to convert this question so that the numbers, when summed to a total mental health score, accurately represent that a high score indicates negative effects on mental health. \n",
    "\n",
    "The default score is as follows: \n",
    "- Very Negative - 1\n",
    "- Slightly Negative - 2\n",
    "- Neutral - 3 \n",
    "- Slightly Positive - 4\n",
    "- Very positive - 5\n",
    "\n",
    "\n",
    "To create an accurate depiction of the effect of social media on mental health, including any positive effects, I will simply reverse the scoring, as seen below: \n",
    "- Very Negative - 5\n",
    "- Slightly Negative - 4\n",
    "- Neutral - 3 \n",
    "- Slightly Positive - 2\n",
    "- Very positive - 1"
   ]
  },
  {
   "cell_type": "code",
   "execution_count": null,
   "metadata": {},
   "outputs": [],
   "source": [
    "#Create conditions again\n",
    "\n",
    "selfesteem_conditions = [\n",
    "    (data['Self Esteem Q2'] == 1), \n",
    "    (data['Self Esteem Q2'] == 2), \n",
    "    (data['Self Esteem Q2'] == 3), \n",
    "    (data['Self Esteem Q2'] == 4), \n",
    "    (data['Self Esteem Q2'] == 5)\n",
    "]\n",
    "\n",
    "new_esteem_values = [5, 4, 3, 2, 1]\n",
    "\n",
    "#assign new values in the self esteem column\n",
    "data['Self Esteem Q2'] = np.select(selfesteem_conditions, new_esteem_values)\n",
    "data.head()"
   ]
  },
  {
   "cell_type": "markdown",
   "metadata": {},
   "source": [
    "**Total Scores for Mental Health**\n",
    "\n",
    "To find out broadly how social media affects mental well being, let's get a total score from all the questionnaires. To dig deeper into potential interactions of mental health with each category (depression, attention, self-esteem), let's create new columns for these separate totals, too."
   ]
  },
  {
   "cell_type": "code",
   "execution_count": null,
   "metadata": {},
   "outputs": [],
   "source": [
    "#Summing anxiety scores\n",
    "data['Anxiety Score'] = data['Anxiety Q1'] + data['Anxiety Q2'] \n",
    "\n",
    "#Sum attention scores\n",
    "data['Attention Score'] = data['Attention Q1'] + data['Attention Q2'] + data['Attention Q3'] + data['Attention Q4']\n",
    "\n",
    "#Sum Depression Scores \n",
    "data['Depression Score'] = data['Depression Q1'] + data['Depression Q2'] + data['Depression Q3']\n",
    "\n",
    "#Sum Self Esteem Scores \n",
    "data['Self Esteem Score'] = data['Self Esteem Q1'] + data['Self Esteem Q2'] + data['Self Esteem Q3']\n",
    "\n",
    "#Total mental health score \n",
    "data['Total Score'] = data['Self Esteem Score'] + data['Depression Score'] + data['Attention Score'] + data['Anxiety Score']\n",
    "\n",
    "#See the scores\n",
    "data.head()"
   ]
  },
  {
   "cell_type": "markdown",
   "metadata": {},
   "source": [
    "**Mental Health Outcomes**\n",
    "\n",
    "A total mental health score exceeding 40 likely indicates that the participant is experiencing severe mental health symptoms. Outcomes can also be very useful for classifying whether a dataset is likely to belong to someone experiencing mental health symptoms. This way, we can predict outcomes based on the features of our data.\n",
    "\n",
    "Any score below 40 is deemed as not experiencing severe mental health symptoms, and will be given the value \"0\". Any score above 40 will be given the score \"1\", where severe mental health symptoms are being subjectively experienced by the participant."
   ]
  },
  {
   "cell_type": "code",
   "execution_count": null,
   "metadata": {},
   "outputs": [],
   "source": [
    "#Any total score below 40 is 0, and total scores above 40 will be 1. \n",
    "def outcome_score(score): \n",
    "    if score >= 40: \n",
    "        return 1\n",
    "    else: \n",
    "        return 0\n",
    "\n",
    "data['Outcome'] = data['Total Score'].apply(lambda score: outcome_score(score))\n",
    "\n",
    "#let's check that it worked - the sum of \"True\" in outcome and Total Score should be the same.\n",
    "print(sum(data['Outcome'] == 1))\n",
    "print(sum(data['Total Score'] >= 40))\n",
    "#We also should not have any unique values.\n",
    "print(data['Outcome'].value_counts())"
   ]
  },
  {
   "cell_type": "markdown",
   "metadata": {},
   "source": [
    "## Outliers\n",
    "\n",
    "Checking for outliers is an important criteria for us to meet if we want to conduct a linear regression model later. It's also simply good practice to identify and remove them for our correlation analysis. Any outliers in our data will be excluded from the dataset. "
   ]
  },
  {
   "cell_type": "code",
   "execution_count": null,
   "metadata": {},
   "outputs": [],
   "source": [
    "#Let's check for outliers in our age, time spent, and total mental health scores. \n",
    "print(data.describe())\n",
    "#preliminarily, age looks like it has a few outliers with a max value of 91.\n",
    "\n",
    "#Below is a function to check our columns for outliers.\n",
    "def outlier_calc(column):\n",
    "    q1 = np.percentile(column, 25) \n",
    "    q3 = np.percentile(column, 75)\n",
    "    iqr = q3 - q1\n",
    "    threshold = 1.5 * iqr\n",
    "    outliers = np.where((column < q1 - threshold) | (column > q3 + threshold))\n",
    "    return outliers[0]\n",
    "\n",
    "indices = outlier_calc(data['Age'])\n",
    "print(indices)"
   ]
  },
  {
   "cell_type": "markdown",
   "metadata": {},
   "source": [
    "Looks like we have a few outliers in our age variable. Time to remove those data points so it doesn't affect our linear regression model or data analysis. "
   ]
  },
  {
   "cell_type": "code",
   "execution_count": null,
   "metadata": {},
   "outputs": [],
   "source": [
    "#dropping the indices that have outliers.\n",
    "data.drop(labels=indices, inplace=True)\n",
    "#check the Age statistics, and we can see that the max age is now 53.\n",
    "data.describe()\n"
   ]
  },
  {
   "cell_type": "markdown",
   "metadata": {},
   "source": [
    "# Research Questions \n",
    "\n",
    "Does social media usage affect mental health outcomes and if so, can we predict outcomes based on demographic data and social media habits?\n",
    "\n",
    "To answer these questions, we'll take a step-by-step approach, testing each assumption of our question, namely: \n",
    "\n",
    "1. What is our demographic data? Are there defining features that are more likely to affect mental health or social media habits?\n",
    "2. How does social media usage, mental health scores and outcomes differ across the demographics? \n",
    "3. What relationships exist between our demographic, mental health scores & outcomes, and social media usage? Are there any defining predictors for mental health outcomes? \n",
    "4. Which model would best predict mental health outcomes? \n",
    "\n",
    "## How does time spent on social media affect mental health scores?\n",
    "\n",
    "First, visualising our data before testing for relationships, starting with how much time our participants spend on social media. "
   ]
  },
  {
   "cell_type": "markdown",
   "metadata": {},
   "source": [
    "## Demographic data"
   ]
  },
  {
   "cell_type": "code",
   "execution_count": null,
   "metadata": {},
   "outputs": [],
   "source": [
    "#Set the theme and make stuff look good\n",
    "sns.set_theme()\n",
    "\n",
    "#Are the scores normally distributed? Starting with Time spent on social media:\n",
    "sns.histplot(data=data, x=data['Time (hrs)'], bins=6, kde=True).set(\n",
    "    title='Overall Distribution of Time Spent on Social Media')\n",
    "\n",
    "#Shapiro wilkes test just to make sure:\n",
    "res = stats.shapiro(data['Time (hrs)'])\n",
    "res.statistic #gives high value, indicating it's normally distributed."
   ]
  },
  {
   "cell_type": "markdown",
   "metadata": {},
   "source": [
    "We can say that our sample generally spends more than 1 hour on social media per day.\n",
    "\n",
    "Would the number of platforms used affect the time spent on social media? Let's find out whether my hypothesis is correct that the more platforms people use, the more time they spend of social media. There may even be a correlation between platform number and mental health scores.\n",
    "\n",
    "### Number of platforms used and time spent on social media"
   ]
  },
  {
   "cell_type": "code",
   "execution_count": null,
   "metadata": {},
   "outputs": [],
   "source": [
    "#Distribution of platform count\n",
    "sns.histplot(data=data, x=data['Platform Count'], kde=True).set(\n",
    "    title='Distribution of platform count')"
   ]
  },
  {
   "cell_type": "markdown",
   "metadata": {},
   "source": [
    "### Correlations between time spent on social media and platform count"
   ]
  },
  {
   "cell_type": "code",
   "execution_count": null,
   "metadata": {},
   "outputs": [],
   "source": [
    "#creating a bar plot between time spent and number of platforms used.\n",
    "sns.barplot(data=data, x=data['Time (hrs)'], y=data['Platform Count'])\n",
    "pcoeff = stats.pearsonr(data['Time (hrs)'], \n",
    "                        data['Platform Count'])\n",
    "pcoeff.statistic #test statistic indicates a positive, linear relationship (r=0.17)"
   ]
  },
  {
   "cell_type": "markdown",
   "metadata": {},
   "source": [
    "## Distribution of total mental health scores\n",
    "\n",
    "Next up, let's see how the mental health scores are distributed in our sample of total participants."
   ]
  },
  {
   "cell_type": "code",
   "execution_count": null,
   "metadata": {},
   "outputs": [],
   "source": [
    "#Now, mental health scores:\n",
    "sns.histplot(data=data, x=data['Total Score'], kde=True).set(\n",
    "    title='Overall Distribution of Total Mental Scores') #graph looks normal."
   ]
  },
  {
   "cell_type": "markdown",
   "metadata": {},
   "source": [
    "## Is there a relationship between mental health scores and time spent on social media? \n",
    "\n",
    "Now that we know that our data is normally distributed, we can visualise whether a relationship exists between time spent on social media and mental health scores."
   ]
  },
  {
   "cell_type": "code",
   "execution_count": null,
   "metadata": {},
   "outputs": [],
   "source": [
    "#Plot time spent on social media versus mental health scores\n",
    "sns.barplot(\n",
    "    data=data, x=data['Time (hrs)'], y=data['Total Score']).set(\n",
    "        title='Relationship Between Time Spent on Social Media and Mental Health Scores')"
   ]
  },
  {
   "cell_type": "markdown",
   "metadata": {},
   "source": [
    "From the bar plot, it looks like there's a positive, linear relationship between time spent on social media and mental health scores. Pearson's correlation coefficient can assist with testing this hypothesis."
   ]
  },
  {
   "cell_type": "code",
   "execution_count": null,
   "metadata": {},
   "outputs": [],
   "source": [
    "#Using Pearson's Coefficient to determine whether this really is a linear relationship\n",
    "pcoeff = stats.pearsonr(data['Time (hrs)'], \n",
    "                        data['Total Score'])\n",
    "pcoeff.statistic #test statistic indicates a positive, linear relationship (r=0.45)"
   ]
  },
  {
   "cell_type": "code",
   "execution_count": null,
   "metadata": {},
   "outputs": [],
   "source": [
    "sns.barplot(\n",
    "    data=data, x=data['Platform Count'], y=data['Total Score']).set(\n",
    "        title='Relationship Between Platform Count and Mental Health Scores')\n",
    "    \n",
    "pcoeff = stats.pearsonr(data['Platform Count'], \n",
    "                        data['Total Score'])\n",
    "pcoeff.statistic #test statistic indicates a weak, positive, linear relationship (r=0.13) "
   ]
  },
  {
   "cell_type": "markdown",
   "metadata": {},
   "source": [
    "So there's a positive correlation between social media usage (in hours) and mental health scores. This is incredibly general though. We're not sure which attributes of the participants are related to mental health scores."
   ]
  },
  {
   "cell_type": "markdown",
   "metadata": {},
   "source": [
    "## Mental Health Scores by Demographic\n",
    "Let's start with age."
   ]
  },
  {
   "cell_type": "code",
   "execution_count": null,
   "metadata": {},
   "outputs": [],
   "source": [
    "sns.histplot(data=data, x=data['Age'], kde=True).set(\n",
    "    title='Ages of participants')\n",
    "\n",
    "res = stats.shapiro(data['Age'])\n",
    "res.pvalue"
   ]
  },
  {
   "cell_type": "markdown",
   "metadata": {},
   "source": [
    "Age x Mental health"
   ]
  },
  {
   "cell_type": "code",
   "execution_count": null,
   "metadata": {},
   "outputs": [],
   "source": [
    "sns.scatterplot(data=data, x=data['Age'], y=data['Total Score'])"
   ]
  },
  {
   "cell_type": "markdown",
   "metadata": {},
   "source": [
    "Gender x Mental health"
   ]
  },
  {
   "cell_type": "code",
   "execution_count": null,
   "metadata": {},
   "outputs": [],
   "source": [
    "#pie chart of gender distribution\n",
    "gender_counts = data['Gender'].value_counts()\n",
    "plt.pie(gender_counts, autopct='%1.1f%%', startangle=140)\n",
    "plt.legend(gender_counts.index, \n",
    "           title=\"Gender\", \n",
    "           loc=\"center left\", bbox_to_anchor=(1, 0.5))\n",
    "plt.title(\"Gender Distribution\")"
   ]
  },
  {
   "cell_type": "markdown",
   "metadata": {},
   "source": [
    "We can see that our data is relatively even in terms of the male to female ratio, with a small sample of participants in our \"Other\" category.\n",
    "\n",
    "## Relationship between Mental Health Scores and Gender"
   ]
  },
  {
   "cell_type": "code",
   "execution_count": null,
   "metadata": {},
   "outputs": [],
   "source": [
    "#Create a violin plot to show distribution of data and their means to explore whether there are inherent differences per gender.\n",
    "sns.violinplot(data=data, x=data['Gender'], \n",
    "               y=data['Total Score']).set(\n",
    "                   title='Total Mental Health Scores by Gender')"
   ]
  },
  {
   "cell_type": "markdown",
   "metadata": {},
   "source": [
    "Relationship Status x Mental health\n"
   ]
  },
  {
   "cell_type": "code",
   "execution_count": null,
   "metadata": {},
   "outputs": [],
   "source": [
    "rel_counts = data['Relationship Status'].value_counts()\n",
    "plt.pie(rel_counts, autopct='%1.1f%%', startangle=140)\n",
    "plt.legend(rel_counts.index, \n",
    "           title=\"Relationship Status\", \n",
    "           loc=\"center left\", bbox_to_anchor=(1, 0.5))\n",
    "plt.title(\"Relationship Status Distribution\")\n"
   ]
  },
  {
   "cell_type": "markdown",
   "metadata": {},
   "source": [
    "now to see relationship with mental health if any"
   ]
  },
  {
   "cell_type": "code",
   "execution_count": null,
   "metadata": {},
   "outputs": [],
   "source": [
    "#Create a violin plot to show distribution of data and their means to explore whether there are inherent differences per gender.\n",
    "sns.barplot(data=data, x=data['Relationship Status'], \n",
    "               y=data['Total Score']).set(\n",
    "                   title='Total Mental Health Scores by Relationship Status')"
   ]
  },
  {
   "cell_type": "markdown",
   "metadata": {},
   "source": [
    "Occupation x mental health "
   ]
  },
  {
   "cell_type": "code",
   "execution_count": null,
   "metadata": {},
   "outputs": [],
   "source": [
    "job_counts = data['Occupation'].value_counts()\n",
    "plt.pie(job_counts, autopct='%1.1f%%', startangle=140)\n",
    "plt.legend(job_counts.index, \n",
    "           title=\"Occupation\", \n",
    "           loc=\"center left\", bbox_to_anchor=(1, 0.5))\n",
    "plt.title(\"Occupation Distribution\")"
   ]
  },
  {
   "cell_type": "markdown",
   "metadata": {},
   "source": [
    "Occupation x mental health"
   ]
  },
  {
   "cell_type": "code",
   "execution_count": null,
   "metadata": {},
   "outputs": [],
   "source": [
    "v = sns.violinplot(data=data, x=data['Occupation'], \n",
    "               y=data['Total Score']).set(\n",
    "                   title='Total Mental Health Scores by Occupation')"
   ]
  },
  {
   "cell_type": "markdown",
   "metadata": {},
   "source": [
    "We have our outcomes. What of our demographics?"
   ]
  },
  {
   "cell_type": "code",
   "execution_count": null,
   "metadata": {},
   "outputs": [],
   "source": [
    "sns.scatterplot(data=data, x=data['Age'], y=data['Total Score'], hue=data['Outcome'])"
   ]
  },
  {
   "cell_type": "markdown",
   "metadata": {},
   "source": [
    "Let's do a correlation of our data."
   ]
  },
  {
   "cell_type": "code",
   "execution_count": null,
   "metadata": {},
   "outputs": [],
   "source": [
    "#Ok lets get correlations for mental health scores and our data. \n",
    "#First step, we need to convert string indices into integers, starting with Gender\n",
    "data.loc[data['Gender'] == 'Male', 'Gender'] = 0\n",
    "data.loc[data['Gender'] == 'Female', 'Gender'] = 1\n",
    "data.loc[data['Gender'] == 'Other', 'Gender'] = 2\n",
    "data['Gender'] = data['Gender'].astype('int64')\n",
    "\n",
    "#Same for relationship status:\n",
    "data.loc[data['Relationship Status'] == 'Single', 'Relationship Status'] = 0\n",
    "data.loc[data['Relationship Status'] == 'Married', 'Relationship Status'] = 1\n",
    "data.loc[data['Relationship Status'] == 'In a relationship', 'Relationship Status'] = 2\n",
    "data.loc[data['Relationship Status'] == 'Divorced', 'Relationship Status'] = 3\n",
    "data['Relationship Status'] = data['Relationship Status'].astype('int64')\n",
    "\n",
    "data.head()"
   ]
  },
  {
   "cell_type": "code",
   "execution_count": null,
   "metadata": {},
   "outputs": [],
   "source": [
    "#dropping unecessary data - using the total questionnaire scores for each parameter.\n",
    "data.drop(labels=['Anxiety Q1', 'Anxiety Q2', \n",
    "                    'Attention Q1', 'Attention Q2', 'Attention Q3', 'Attention Q4',\n",
    "                    'Depression Q1', 'Depression Q2', 'Depression Q3', \n",
    "                    'Self Esteem Q1', 'Self Esteem Q2', 'Self Esteem Q3'], axis=1, inplace=True)"
   ]
  },
  {
   "cell_type": "markdown",
   "metadata": {},
   "source": [
    "## Correlation heatmap between variables"
   ]
  },
  {
   "cell_type": "code",
   "execution_count": null,
   "metadata": {},
   "outputs": [],
   "source": [
    "#create a correlation table using only numeric values in our data\n",
    "corrdf = data.corr(method='spearman', numeric_only=True)\n",
    "corrdf.sort_index(axis=1, ascending=True)\n",
    "print(corrdf)\n",
    "#visualise correlation coefficients in a heatmap\n",
    "sns.heatmap(corrdf)"
   ]
  },
  {
   "cell_type": "markdown",
   "metadata": {},
   "source": [
    "From the heatmap, and from the correlation table generated, we can conclude that Time Spent on social media has the strongest association with total scores. Interestingly, total self esteem and depression scores didn't seem to have as strong a correlation with time spent on social media as the total anxiety and attention scores did."
   ]
  },
  {
   "cell_type": "markdown",
   "metadata": {},
   "source": [
    "## Predicting Mental Health Scores using Machine Learning\n",
    "\n",
    "Based on the features we have, can we predict mental health outcomes? \n",
    "\n",
    "I've chosen to use two types of models: \n",
    "\n",
    "1. Linear Regression Model\n",
    "2. Gaussian Naive Bayes Model"
   ]
  },
  {
   "cell_type": "markdown",
   "metadata": {},
   "source": [
    "###  Predicting Mental health scores using a Linear Regression model\n",
    "\n"
   ]
  },
  {
   "cell_type": "code",
   "execution_count": null,
   "metadata": {},
   "outputs": [],
   "source": [
    "#importing the necessary libraries to run our linear regression model\n",
    "from sklearn.linear_model import LinearRegression \n",
    "from sklearn.naive_bayes import GaussianNB\n",
    "from sklearn.model_selection import train_test_split\n",
    "from sklearn.metrics import mean_squared_error, r2_score"
   ]
  },
  {
   "cell_type": "code",
   "execution_count": null,
   "metadata": {},
   "outputs": [],
   "source": [
    "#Separating our features from our target variable (the variable we want to predict)\n",
    "X = data[['Time (hrs)', 'Age', 'Gender', 'Relationship Status', 'Platform Count']]\n",
    "y = data['Total Score']\n",
    "\n",
    "#create the model\n",
    "lrmodel = LinearRegression()\n",
    "\n",
    "#splitting data into test and training sets (60% test, 40% train)\n",
    "X_train, X_test, y_train, y_test = train_test_split(X, y, test_size=0.4, random_state=42)\n",
    "\n",
    "#fit the model \n",
    "lrmodel.fit(X_train, y_train)\n",
    "\n",
    "#predictions \n",
    "y_pred = lrmodel.predict(X_test)\n",
    "\n",
    "print(f\"Mean Squared Error: {mean_squared_error(y_test, y_pred)}\")\n",
    "print(f\"R-squared: {r2_score(y_test, y_pred)}\")"
   ]
  },
  {
   "cell_type": "code",
   "execution_count": null,
   "metadata": {},
   "outputs": [],
   "source": [
    "#Gaussian Model: \n",
    "gnbmodel = GaussianNB()\n",
    "\n",
    "#fit the model \n",
    "gnbmodel.fit(X_train, y_train)\n",
    "\n",
    "#predictions \n",
    "y_pred = gnbmodel.fit(X_train, y_train).predict(X_test)\n"
   ]
  }
 ],
 "metadata": {
  "kernelspec": {
   "display_name": "myenv",
   "language": "python",
   "name": "python3"
  },
  "language_info": {
   "codemirror_mode": {
    "name": "ipython",
    "version": 3
   },
   "file_extension": ".py",
   "mimetype": "text/x-python",
   "name": "python",
   "nbconvert_exporter": "python",
   "pygments_lexer": "ipython3",
   "version": "3.11.5"
  }
 },
 "nbformat": 4,
 "nbformat_minor": 2
}
