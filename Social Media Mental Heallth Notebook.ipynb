{
 "cells": [
  {
   "cell_type": "markdown",
   "metadata": {},
   "source": [
    "Social media and mental health correlations. \n",
    "\n",
    "In this project, I will use preexisting data provided by a research project for the Statistics Course STA-2101 for the University of Liberal Arts Bangladesh (ULAB). Submitted to - Khan Raqib Mahmud. Submitted by - Souvik Ahmed (203014004) and Muhesena Nasiha Syeda (203014015)."
   ]
  },
  {
   "cell_type": "code",
   "execution_count": 1,
   "metadata": {},
   "outputs": [],
   "source": [
    "#import libraries needed to run analysis and visualise the data\n",
    "import pandas as pd \n",
    "import numpy as np\n",
    "import scipy.stats as stats\n",
    "import matplotlib.pyplot as plt\n",
    "import seaborn as sns"
   ]
  },
  {
   "cell_type": "markdown",
   "metadata": {},
   "source": [
    "Now that I've imported the libraries I need, I shall fetch the data and start pre processing the data."
   ]
  },
  {
   "cell_type": "code",
   "execution_count": 2,
   "metadata": {},
   "outputs": [
    {
     "data": {
      "text/html": [
       "<div>\n",
       "<style scoped>\n",
       "    .dataframe tbody tr th:only-of-type {\n",
       "        vertical-align: middle;\n",
       "    }\n",
       "\n",
       "    .dataframe tbody tr th {\n",
       "        vertical-align: top;\n",
       "    }\n",
       "\n",
       "    .dataframe thead th {\n",
       "        text-align: right;\n",
       "    }\n",
       "</style>\n",
       "<table border=\"1\" class=\"dataframe\">\n",
       "  <thead>\n",
       "    <tr style=\"text-align: right;\">\n",
       "      <th></th>\n",
       "      <th>Timestamp</th>\n",
       "      <th>1. What is your age?</th>\n",
       "      <th>2. Gender</th>\n",
       "      <th>3. Relationship Status</th>\n",
       "      <th>4. Occupation Status</th>\n",
       "      <th>5. What type of organizations are you affiliated with?</th>\n",
       "      <th>6. Do you use social media?</th>\n",
       "      <th>7. What social media platforms do you commonly use?</th>\n",
       "      <th>8. What is the average time you spend on social media every day?</th>\n",
       "      <th>9. How often do you find yourself using Social media without a specific purpose?</th>\n",
       "      <th>...</th>\n",
       "      <th>11. Do you feel restless if you haven't used Social media in a while?</th>\n",
       "      <th>12. On a scale of 1 to 5, how easily distracted are you?</th>\n",
       "      <th>13. On a scale of 1 to 5, how much are you bothered by worries?</th>\n",
       "      <th>14. Do you find it difficult to concentrate on things?</th>\n",
       "      <th>15. On a scale of 1-5, how often do you compare yourself to other successful people through the use of social media?</th>\n",
       "      <th>16. Following the previous question, how do you feel about these comparisons, generally speaking?</th>\n",
       "      <th>17. How often do you look to seek validation from features of social media?</th>\n",
       "      <th>18. How often do you feel depressed or down?</th>\n",
       "      <th>19. On a scale of 1 to 5, how frequently does your interest in daily activities fluctuate?</th>\n",
       "      <th>20. On a scale of 1 to 5, how often do you face issues regarding sleep?</th>\n",
       "    </tr>\n",
       "  </thead>\n",
       "  <tbody>\n",
       "    <tr>\n",
       "      <th>0</th>\n",
       "      <td>4/18/2022 19:18:47</td>\n",
       "      <td>21.0</td>\n",
       "      <td>Male</td>\n",
       "      <td>In a relationship</td>\n",
       "      <td>University Student</td>\n",
       "      <td>University</td>\n",
       "      <td>Yes</td>\n",
       "      <td>Facebook, Twitter, Instagram, YouTube, Discord...</td>\n",
       "      <td>Between 2 and 3 hours</td>\n",
       "      <td>5</td>\n",
       "      <td>...</td>\n",
       "      <td>2</td>\n",
       "      <td>5</td>\n",
       "      <td>2</td>\n",
       "      <td>5</td>\n",
       "      <td>2</td>\n",
       "      <td>3</td>\n",
       "      <td>2</td>\n",
       "      <td>5</td>\n",
       "      <td>4</td>\n",
       "      <td>5</td>\n",
       "    </tr>\n",
       "    <tr>\n",
       "      <th>1</th>\n",
       "      <td>4/18/2022 19:19:28</td>\n",
       "      <td>21.0</td>\n",
       "      <td>Female</td>\n",
       "      <td>Single</td>\n",
       "      <td>University Student</td>\n",
       "      <td>University</td>\n",
       "      <td>Yes</td>\n",
       "      <td>Facebook, Twitter, Instagram, YouTube, Discord...</td>\n",
       "      <td>More than 5 hours</td>\n",
       "      <td>4</td>\n",
       "      <td>...</td>\n",
       "      <td>2</td>\n",
       "      <td>4</td>\n",
       "      <td>5</td>\n",
       "      <td>4</td>\n",
       "      <td>5</td>\n",
       "      <td>1</td>\n",
       "      <td>1</td>\n",
       "      <td>5</td>\n",
       "      <td>4</td>\n",
       "      <td>5</td>\n",
       "    </tr>\n",
       "    <tr>\n",
       "      <th>2</th>\n",
       "      <td>4/18/2022 19:25:59</td>\n",
       "      <td>21.0</td>\n",
       "      <td>Female</td>\n",
       "      <td>Single</td>\n",
       "      <td>University Student</td>\n",
       "      <td>University</td>\n",
       "      <td>Yes</td>\n",
       "      <td>Facebook, Instagram, YouTube, Pinterest</td>\n",
       "      <td>Between 3 and 4 hours</td>\n",
       "      <td>3</td>\n",
       "      <td>...</td>\n",
       "      <td>1</td>\n",
       "      <td>2</td>\n",
       "      <td>5</td>\n",
       "      <td>4</td>\n",
       "      <td>3</td>\n",
       "      <td>3</td>\n",
       "      <td>1</td>\n",
       "      <td>4</td>\n",
       "      <td>2</td>\n",
       "      <td>5</td>\n",
       "    </tr>\n",
       "    <tr>\n",
       "      <th>3</th>\n",
       "      <td>4/18/2022 19:29:43</td>\n",
       "      <td>21.0</td>\n",
       "      <td>Female</td>\n",
       "      <td>Single</td>\n",
       "      <td>University Student</td>\n",
       "      <td>University</td>\n",
       "      <td>Yes</td>\n",
       "      <td>Facebook, Instagram</td>\n",
       "      <td>More than 5 hours</td>\n",
       "      <td>4</td>\n",
       "      <td>...</td>\n",
       "      <td>1</td>\n",
       "      <td>3</td>\n",
       "      <td>5</td>\n",
       "      <td>3</td>\n",
       "      <td>5</td>\n",
       "      <td>1</td>\n",
       "      <td>2</td>\n",
       "      <td>4</td>\n",
       "      <td>3</td>\n",
       "      <td>2</td>\n",
       "    </tr>\n",
       "    <tr>\n",
       "      <th>4</th>\n",
       "      <td>4/18/2022 19:33:31</td>\n",
       "      <td>21.0</td>\n",
       "      <td>Female</td>\n",
       "      <td>Single</td>\n",
       "      <td>University Student</td>\n",
       "      <td>University</td>\n",
       "      <td>Yes</td>\n",
       "      <td>Facebook, Instagram, YouTube</td>\n",
       "      <td>Between 2 and 3 hours</td>\n",
       "      <td>3</td>\n",
       "      <td>...</td>\n",
       "      <td>4</td>\n",
       "      <td>4</td>\n",
       "      <td>5</td>\n",
       "      <td>5</td>\n",
       "      <td>3</td>\n",
       "      <td>3</td>\n",
       "      <td>3</td>\n",
       "      <td>4</td>\n",
       "      <td>4</td>\n",
       "      <td>1</td>\n",
       "    </tr>\n",
       "  </tbody>\n",
       "</table>\n",
       "<p>5 rows × 21 columns</p>\n",
       "</div>"
      ],
      "text/plain": [
       "            Timestamp  1. What is your age? 2. Gender 3. Relationship Status  \\\n",
       "0  4/18/2022 19:18:47                  21.0      Male      In a relationship   \n",
       "1  4/18/2022 19:19:28                  21.0    Female                 Single   \n",
       "2  4/18/2022 19:25:59                  21.0    Female                 Single   \n",
       "3  4/18/2022 19:29:43                  21.0    Female                 Single   \n",
       "4  4/18/2022 19:33:31                  21.0    Female                 Single   \n",
       "\n",
       "  4. Occupation Status 5. What type of organizations are you affiliated with?  \\\n",
       "0   University Student                                         University       \n",
       "1   University Student                                         University       \n",
       "2   University Student                                         University       \n",
       "3   University Student                                         University       \n",
       "4   University Student                                         University       \n",
       "\n",
       "  6. Do you use social media?  \\\n",
       "0                         Yes   \n",
       "1                         Yes   \n",
       "2                         Yes   \n",
       "3                         Yes   \n",
       "4                         Yes   \n",
       "\n",
       "  7. What social media platforms do you commonly use?  \\\n",
       "0  Facebook, Twitter, Instagram, YouTube, Discord...    \n",
       "1  Facebook, Twitter, Instagram, YouTube, Discord...    \n",
       "2            Facebook, Instagram, YouTube, Pinterest    \n",
       "3                                Facebook, Instagram    \n",
       "4                       Facebook, Instagram, YouTube    \n",
       "\n",
       "  8. What is the average time you spend on social media every day?  \\\n",
       "0                              Between 2 and 3 hours                 \n",
       "1                                  More than 5 hours                 \n",
       "2                              Between 3 and 4 hours                 \n",
       "3                                  More than 5 hours                 \n",
       "4                              Between 2 and 3 hours                 \n",
       "\n",
       "   9. How often do you find yourself using Social media without a specific purpose?  \\\n",
       "0                                                  5                                  \n",
       "1                                                  4                                  \n",
       "2                                                  3                                  \n",
       "3                                                  4                                  \n",
       "4                                                  3                                  \n",
       "\n",
       "   ...  11. Do you feel restless if you haven't used Social media in a while?  \\\n",
       "0  ...                                                  2                       \n",
       "1  ...                                                  2                       \n",
       "2  ...                                                  1                       \n",
       "3  ...                                                  1                       \n",
       "4  ...                                                  4                       \n",
       "\n",
       "   12. On a scale of 1 to 5, how easily distracted are you?  \\\n",
       "0                                                  5          \n",
       "1                                                  4          \n",
       "2                                                  2          \n",
       "3                                                  3          \n",
       "4                                                  4          \n",
       "\n",
       "   13. On a scale of 1 to 5, how much are you bothered by worries?  \\\n",
       "0                                                  2                 \n",
       "1                                                  5                 \n",
       "2                                                  5                 \n",
       "3                                                  5                 \n",
       "4                                                  5                 \n",
       "\n",
       "   14. Do you find it difficult to concentrate on things?  \\\n",
       "0                                                  5        \n",
       "1                                                  4        \n",
       "2                                                  4        \n",
       "3                                                  3        \n",
       "4                                                  5        \n",
       "\n",
       "   15. On a scale of 1-5, how often do you compare yourself to other successful people through the use of social media?  \\\n",
       "0                                                  2                                                                      \n",
       "1                                                  5                                                                      \n",
       "2                                                  3                                                                      \n",
       "3                                                  5                                                                      \n",
       "4                                                  3                                                                      \n",
       "\n",
       "   16. Following the previous question, how do you feel about these comparisons, generally speaking?  \\\n",
       "0                                                  3                                                   \n",
       "1                                                  1                                                   \n",
       "2                                                  3                                                   \n",
       "3                                                  1                                                   \n",
       "4                                                  3                                                   \n",
       "\n",
       "   17. How often do you look to seek validation from features of social media?  \\\n",
       "0                                                  2                             \n",
       "1                                                  1                             \n",
       "2                                                  1                             \n",
       "3                                                  2                             \n",
       "4                                                  3                             \n",
       "\n",
       "   18. How often do you feel depressed or down?  \\\n",
       "0                                             5   \n",
       "1                                             5   \n",
       "2                                             4   \n",
       "3                                             4   \n",
       "4                                             4   \n",
       "\n",
       "   19. On a scale of 1 to 5, how frequently does your interest in daily activities fluctuate?  \\\n",
       "0                                                  4                                            \n",
       "1                                                  4                                            \n",
       "2                                                  2                                            \n",
       "3                                                  3                                            \n",
       "4                                                  4                                            \n",
       "\n",
       "   20. On a scale of 1 to 5, how often do you face issues regarding sleep?  \n",
       "0                                                  5                        \n",
       "1                                                  5                        \n",
       "2                                                  5                        \n",
       "3                                                  2                        \n",
       "4                                                  1                        \n",
       "\n",
       "[5 rows x 21 columns]"
      ]
     },
     "execution_count": 2,
     "metadata": {},
     "output_type": "execute_result"
    }
   ],
   "source": [
    "#I've created a separate filepath.py function to record my directory. \n",
    "from filepath import filepath\n",
    "#read the data - \"filepath\" should be replaced with the directory you store the smmh.csv file on your own device.\n",
    "rawdata = pd.read_csv(filepath)\n",
    "rawdata.head()"
   ]
  },
  {
   "cell_type": "markdown",
   "metadata": {},
   "source": [
    "## Cleaning and Organising the data\n",
    "\n",
    "Firstly, I don't need the timestamp data, so I'll remove that from the dataset. Then, to create an easy-to-use dataset, I would like to rename all the columns to workable titles and sort the question data into chronological order."
   ]
  },
  {
   "cell_type": "code",
   "execution_count": 3,
   "metadata": {},
   "outputs": [
    {
     "data": {
      "text/html": [
       "<div>\n",
       "<style scoped>\n",
       "    .dataframe tbody tr th:only-of-type {\n",
       "        vertical-align: middle;\n",
       "    }\n",
       "\n",
       "    .dataframe tbody tr th {\n",
       "        vertical-align: top;\n",
       "    }\n",
       "\n",
       "    .dataframe thead th {\n",
       "        text-align: right;\n",
       "    }\n",
       "</style>\n",
       "<table border=\"1\" class=\"dataframe\">\n",
       "  <thead>\n",
       "    <tr style=\"text-align: right;\">\n",
       "      <th></th>\n",
       "      <th>Age</th>\n",
       "      <th>Gender</th>\n",
       "      <th>Relationship Status</th>\n",
       "      <th>Occupation</th>\n",
       "      <th>Affiliations</th>\n",
       "      <th>Use Social Media</th>\n",
       "      <th>Platforms Used</th>\n",
       "      <th>Time Spent</th>\n",
       "      <th>Anxiety Q1</th>\n",
       "      <th>Anxiety Q2</th>\n",
       "      <th>Attention Q1</th>\n",
       "      <th>Attention Q2</th>\n",
       "      <th>Attention Q3</th>\n",
       "      <th>Attention Q4</th>\n",
       "      <th>Depression Q1</th>\n",
       "      <th>Depression Q2</th>\n",
       "      <th>Depression Q3</th>\n",
       "      <th>Self Esteem Q1</th>\n",
       "      <th>Self Esteem Q2</th>\n",
       "      <th>Self Esteem Q3</th>\n",
       "    </tr>\n",
       "  </thead>\n",
       "  <tbody>\n",
       "    <tr>\n",
       "      <th>0</th>\n",
       "      <td>21.0</td>\n",
       "      <td>Male</td>\n",
       "      <td>In a relationship</td>\n",
       "      <td>University Student</td>\n",
       "      <td>University</td>\n",
       "      <td>Yes</td>\n",
       "      <td>Facebook, Twitter, Instagram, YouTube, Discord...</td>\n",
       "      <td>Between 2 and 3 hours</td>\n",
       "      <td>2</td>\n",
       "      <td>2</td>\n",
       "      <td>5</td>\n",
       "      <td>3</td>\n",
       "      <td>5</td>\n",
       "      <td>5</td>\n",
       "      <td>5</td>\n",
       "      <td>4</td>\n",
       "      <td>5</td>\n",
       "      <td>2</td>\n",
       "      <td>3</td>\n",
       "      <td>2</td>\n",
       "    </tr>\n",
       "    <tr>\n",
       "      <th>1</th>\n",
       "      <td>21.0</td>\n",
       "      <td>Female</td>\n",
       "      <td>Single</td>\n",
       "      <td>University Student</td>\n",
       "      <td>University</td>\n",
       "      <td>Yes</td>\n",
       "      <td>Facebook, Twitter, Instagram, YouTube, Discord...</td>\n",
       "      <td>More than 5 hours</td>\n",
       "      <td>2</td>\n",
       "      <td>5</td>\n",
       "      <td>4</td>\n",
       "      <td>3</td>\n",
       "      <td>4</td>\n",
       "      <td>4</td>\n",
       "      <td>5</td>\n",
       "      <td>4</td>\n",
       "      <td>5</td>\n",
       "      <td>5</td>\n",
       "      <td>1</td>\n",
       "      <td>1</td>\n",
       "    </tr>\n",
       "    <tr>\n",
       "      <th>2</th>\n",
       "      <td>21.0</td>\n",
       "      <td>Female</td>\n",
       "      <td>Single</td>\n",
       "      <td>University Student</td>\n",
       "      <td>University</td>\n",
       "      <td>Yes</td>\n",
       "      <td>Facebook, Instagram, YouTube, Pinterest</td>\n",
       "      <td>Between 3 and 4 hours</td>\n",
       "      <td>1</td>\n",
       "      <td>5</td>\n",
       "      <td>3</td>\n",
       "      <td>2</td>\n",
       "      <td>2</td>\n",
       "      <td>4</td>\n",
       "      <td>4</td>\n",
       "      <td>2</td>\n",
       "      <td>5</td>\n",
       "      <td>3</td>\n",
       "      <td>3</td>\n",
       "      <td>1</td>\n",
       "    </tr>\n",
       "    <tr>\n",
       "      <th>3</th>\n",
       "      <td>21.0</td>\n",
       "      <td>Female</td>\n",
       "      <td>Single</td>\n",
       "      <td>University Student</td>\n",
       "      <td>University</td>\n",
       "      <td>Yes</td>\n",
       "      <td>Facebook, Instagram</td>\n",
       "      <td>More than 5 hours</td>\n",
       "      <td>1</td>\n",
       "      <td>5</td>\n",
       "      <td>4</td>\n",
       "      <td>2</td>\n",
       "      <td>3</td>\n",
       "      <td>3</td>\n",
       "      <td>4</td>\n",
       "      <td>3</td>\n",
       "      <td>2</td>\n",
       "      <td>5</td>\n",
       "      <td>1</td>\n",
       "      <td>2</td>\n",
       "    </tr>\n",
       "    <tr>\n",
       "      <th>4</th>\n",
       "      <td>21.0</td>\n",
       "      <td>Female</td>\n",
       "      <td>Single</td>\n",
       "      <td>University Student</td>\n",
       "      <td>University</td>\n",
       "      <td>Yes</td>\n",
       "      <td>Facebook, Instagram, YouTube</td>\n",
       "      <td>Between 2 and 3 hours</td>\n",
       "      <td>4</td>\n",
       "      <td>5</td>\n",
       "      <td>3</td>\n",
       "      <td>5</td>\n",
       "      <td>4</td>\n",
       "      <td>5</td>\n",
       "      <td>4</td>\n",
       "      <td>4</td>\n",
       "      <td>1</td>\n",
       "      <td>3</td>\n",
       "      <td>3</td>\n",
       "      <td>3</td>\n",
       "    </tr>\n",
       "  </tbody>\n",
       "</table>\n",
       "</div>"
      ],
      "text/plain": [
       "    Age  Gender Relationship Status          Occupation Affiliations  \\\n",
       "0  21.0    Male   In a relationship  University Student   University   \n",
       "1  21.0  Female              Single  University Student   University   \n",
       "2  21.0  Female              Single  University Student   University   \n",
       "3  21.0  Female              Single  University Student   University   \n",
       "4  21.0  Female              Single  University Student   University   \n",
       "\n",
       "  Use Social Media                                     Platforms Used  \\\n",
       "0              Yes  Facebook, Twitter, Instagram, YouTube, Discord...   \n",
       "1              Yes  Facebook, Twitter, Instagram, YouTube, Discord...   \n",
       "2              Yes            Facebook, Instagram, YouTube, Pinterest   \n",
       "3              Yes                                Facebook, Instagram   \n",
       "4              Yes                       Facebook, Instagram, YouTube   \n",
       "\n",
       "              Time Spent  Anxiety Q1  Anxiety Q2  Attention Q1  Attention Q2  \\\n",
       "0  Between 2 and 3 hours           2           2             5             3   \n",
       "1      More than 5 hours           2           5             4             3   \n",
       "2  Between 3 and 4 hours           1           5             3             2   \n",
       "3      More than 5 hours           1           5             4             2   \n",
       "4  Between 2 and 3 hours           4           5             3             5   \n",
       "\n",
       "   Attention Q3  Attention Q4  Depression Q1  Depression Q2  Depression Q3  \\\n",
       "0             5             5              5              4              5   \n",
       "1             4             4              5              4              5   \n",
       "2             2             4              4              2              5   \n",
       "3             3             3              4              3              2   \n",
       "4             4             5              4              4              1   \n",
       "\n",
       "   Self Esteem Q1  Self Esteem Q2  Self Esteem Q3  \n",
       "0               2               3               2  \n",
       "1               5               1               1  \n",
       "2               3               3               1  \n",
       "3               5               1               2  \n",
       "4               3               3               3  "
      ]
     },
     "execution_count": 3,
     "metadata": {},
     "output_type": "execute_result"
    }
   ],
   "source": [
    "#deleting timestamp column \n",
    "notimedata = rawdata.drop(['Timestamp'], axis=1)\n",
    "\n",
    "#rename the columns for useability. \n",
    "#Let's create a new data frame: \n",
    "newdata = pd.DataFrame(notimedata)\n",
    "newdata.columns = ['Age', 'Gender', 'Relationship Status', \n",
    "                   'Occupation', 'Affiliations', \n",
    "                   'Use Social Media', 'Platforms Used', 'Time Spent', \n",
    "                   'Attention Q1', 'Attention Q2', 'Anxiety Q1', \n",
    "                   'Attention Q3', 'Anxiety Q2', 'Attention Q4', \n",
    "                   'Self Esteem Q1', 'Self Esteem Q2', 'Self Esteem Q3', \n",
    "                   'Depression Q1', 'Depression Q2', 'Depression Q3'\n",
    "                   ]\n",
    "\n",
    "\n",
    "#Checking that the titles are correct\n",
    "newdata.head()\n",
    "list(newdata.columns)\n",
    "\n",
    "#Sorting the data so that the questions are in alphabetical and chronological order\n",
    "#Create two data frames, one with demographic data (first object) and the other with questions that are sorted by column. \n",
    "\n",
    "data = pd.concat([newdata[['Age', 'Gender', 'Relationship Status', \n",
    "                   'Occupation', 'Affiliations', \n",
    "                   'Use Social Media', 'Platforms Used', 'Time Spent',]], \n",
    "                  newdata[['Attention Q1', 'Attention Q2', 'Anxiety Q1', \n",
    "                   'Attention Q3', 'Anxiety Q2', 'Attention Q4', \n",
    "                   'Self Esteem Q1', 'Self Esteem Q2', 'Self Esteem Q3', \n",
    "                   'Depression Q1', 'Depression Q2', 'Depression Q3']].sort_index(axis=1)], \n",
    "                 ignore_index=False,axis=1)\n",
    "data.head()\n",
    "\n",
    "#Just in case, manually check the first entry of the new df to the original raw data to ensure that the scores matched the original dataset. We're all good!"
   ]
  },
  {
   "cell_type": "markdown",
   "metadata": {},
   "source": [
    "### Checking for blank data\n",
    "\n",
    "Looking for NaNs!"
   ]
  },
  {
   "cell_type": "code",
   "execution_count": 4,
   "metadata": {},
   "outputs": [
    {
     "data": {
      "text/plain": [
       "(array([ 17,  24,  42,  47,  63,  64,  74,  80,  85,  97, 108, 128, 162,\n",
       "        166, 173, 194, 214, 219, 238, 251, 260, 322, 326, 364, 377, 399,\n",
       "        425, 428, 453, 473]),\n",
       " array([4, 4, 4, 4, 4, 4, 4, 4, 4, 4, 4, 4, 4, 4, 4, 4, 4, 4, 4, 4, 4, 4,\n",
       "        4, 4, 4, 4, 4, 4, 4, 4]))"
      ]
     },
     "execution_count": 4,
     "metadata": {},
     "output_type": "execute_result"
    }
   ],
   "source": [
    "#Finding the rows and columns that have null values.\n",
    "np.where(pd.isnull(data))"
   ]
  },
  {
   "cell_type": "markdown",
   "metadata": {},
   "source": [
    "Looks like we have missing values in the 'Affiliations' column. \n",
    "\n",
    "Since the rest of the \"Affiliations\" data is a string, I'm going to replace all the NaNs with 'Unknown'"
   ]
  },
  {
   "cell_type": "code",
   "execution_count": 5,
   "metadata": {},
   "outputs": [
    {
     "data": {
      "text/plain": [
       "(array([], dtype=int64), array([], dtype=int64))"
      ]
     },
     "execution_count": 5,
     "metadata": {},
     "output_type": "execute_result"
    }
   ],
   "source": [
    "#Replace NaNs with \"Unknown\"\n",
    "data = data.fillna('Unknown')\n",
    "#Check that we don't have NaNs\n",
    "np.where(pd.isnull(data))"
   ]
  },
  {
   "cell_type": "markdown",
   "metadata": {},
   "source": [
    "## Checking the validity of responses\n",
    "\n",
    "To make sure that the data shows participants that haven't created odd entries, let's check the responses for the fields that require manual input. Where 'Other' was selected, let's see what people have said. "
   ]
  },
  {
   "cell_type": "code",
   "execution_count": 6,
   "metadata": {},
   "outputs": [
    {
     "name": "stdout",
     "output_type": "stream",
     "text": [
      "[21.  22.  20.  24.  23.  25.  28.  34.  26.  35.  18.  19.  56.  65.\n",
      " 17.  40.  33.  55.  27.  14.  38.  32.  30.  16.  48.  47.  50.  49.\n",
      " 51.  46.  36.  37.  45.  42.  31.  69.  91.  15.  29.  43.  26.7 52.\n",
      " 44.  60.  13.  53. ]\n",
      "['Male' 'Female' 'Nonbinary ' 'Non-binary' 'NB' 'unsure ' 'Trans'\n",
      " 'Non binary ' 'There are others???']\n",
      "['In a relationship' 'Single' 'Married' 'Divorced']\n",
      "['University Student' 'School Student' 'Salaried Worker' 'Retired']\n",
      "['University' 'Private' 'Unknown' 'School, University' 'Company'\n",
      " 'School, Private' 'University, Company' 'Goverment' 'Company, Private'\n",
      " 'School' 'University, Goverment, Private' 'University, Company, Private'\n",
      " 'University, Private' 'University, N/A' 'School, University, Private'\n",
      " 'University, Goverment' 'University, Company, Goverment'\n",
      " 'School, Company' 'School, N/A']\n",
      "['Yes' 'No']\n",
      "['Facebook, Twitter, Instagram, YouTube, Discord, Reddit'\n",
      " 'Facebook, Instagram, YouTube, Pinterest' 'Facebook, Instagram'\n",
      " 'Facebook, Instagram, YouTube'\n",
      " 'Facebook, Twitter, Instagram, YouTube, Discord, Pinterest, TikTok'\n",
      " 'Facebook, Instagram, YouTube, Snapchat, TikTok' 'Reddit, Pinterest'\n",
      " 'Facebook, Instagram, YouTube, Discord'\n",
      " 'Facebook, Instagram, YouTube, Snapchat, Discord, Reddit, Pinterest, TikTok'\n",
      " 'Facebook, Twitter, Instagram, YouTube, Snapchat, Discord, Reddit, Pinterest'\n",
      " 'Facebook, Twitter, Instagram, YouTube, Snapchat, Reddit, Pinterest'\n",
      " 'Facebook, YouTube, Pinterest' 'Facebook, Instagram, YouTube, Reddit'\n",
      " 'Facebook, YouTube, Discord' 'Facebook, YouTube, Discord, Reddit'\n",
      " 'Facebook, Twitter, Instagram, YouTube'\n",
      " 'Facebook, Instagram, YouTube, Discord, Reddit'\n",
      " 'Facebook, Twitter, Instagram, YouTube, Discord, Reddit, TikTok'\n",
      " 'Facebook, Instagram, YouTube, Snapchat, Pinterest'\n",
      " 'Facebook, Twitter, YouTube, Discord' 'Facebook, YouTube'\n",
      " 'Facebook, Instagram, YouTube, Snapchat, Discord, Pinterest, TikTok'\n",
      " 'Facebook, Instagram, YouTube, Snapchat, Discord'\n",
      " 'Facebook, Instagram, YouTube, TikTok'\n",
      " 'Facebook, Instagram, YouTube, Discord, Pinterest'\n",
      " 'Facebook, Twitter, Instagram, YouTube, Discord'\n",
      " 'Facebook, Twitter, Instagram, YouTube, Snapchat, Discord, Reddit'\n",
      " 'Facebook, Instagram, YouTube, Snapchat' 'YouTube'\n",
      " 'Twitter, Discord, Reddit' 'Instagram, YouTube, Reddit, Pinterest'\n",
      " 'Twitter, YouTube, Reddit'\n",
      " 'Facebook, Twitter, Instagram, YouTube, Snapchat, Discord, Reddit, Pinterest, TikTok'\n",
      " 'YouTube, Snapchat, Discord' 'Facebook' 'Discord, Reddit'\n",
      " 'YouTube, Discord, Reddit'\n",
      " 'Facebook, Twitter, Instagram, YouTube, Snapchat, Reddit, TikTok'\n",
      " 'Facebook, Instagram, YouTube, Snapchat, Discord, Reddit'\n",
      " 'Instagram, Reddit' 'YouTube, Reddit' 'Reddit'\n",
      " 'Facebook, Instagram, Reddit, TikTok'\n",
      " 'Twitter, Instagram, YouTube, Reddit, TikTok'\n",
      " 'YouTube, Snapchat, Discord, Reddit' 'Instagram, YouTube'\n",
      " 'Instagram, YouTube, Discord, Reddit'\n",
      " 'Twitter, Instagram, YouTube, Snapchat, Reddit, Pinterest, TikTok'\n",
      " 'Twitter, YouTube, Discord, Reddit' 'Facebook, YouTube, Reddit'\n",
      " 'Facebook, Twitter, Instagram, YouTube, Snapchat, Discord, TikTok'\n",
      " 'Twitter, Instagram, YouTube, Snapchat, Discord, Reddit'\n",
      " 'Facebook, Instagram, YouTube, Snapchat, Discord, Reddit, Pinterest'\n",
      " 'Instagram, YouTube, Snapchat, Discord, Reddit'\n",
      " 'Facebook, Twitter, Instagram, YouTube, Reddit'\n",
      " 'Facebook, Twitter, Instagram, YouTube, Snapchat'\n",
      " 'Twitter, Instagram, YouTube, Snapchat, Discord, Reddit, TikTok'\n",
      " 'Instagram' 'Instagram, YouTube, Discord'\n",
      " 'Facebook, Instagram, YouTube, Snapchat, Discord, TikTok'\n",
      " 'Facebook, Twitter, Instagram, YouTube, Snapchat, Pinterest'\n",
      " 'Facebook, Instagram, TikTok' 'Facebook, Instagram, Snapchat'\n",
      " 'Facebook, YouTube, Snapchat, Pinterest'\n",
      " 'Facebook, Twitter, Instagram, YouTube, Snapchat, Discord'\n",
      " 'Facebook, Instagram, YouTube, Snapchat, Pinterest, TikTok'\n",
      " 'Instagram, YouTube, Snapchat, Pinterest'\n",
      " 'Facebook, Twitter, Instagram, YouTube, Pinterest'\n",
      " 'Facebook, Twitter, Instagram, YouTube, Snapchat, Discord, Pinterest'\n",
      " 'Twitter, Instagram, YouTube' 'Facebook, Twitter, YouTube' 'Twitter'\n",
      " 'Facebook, Instagram, YouTube, Pinterest, TikTok' 'Twitter, YouTube'\n",
      " 'Facebook, Twitter' 'Instagram, YouTube, Pinterest' 'Pinterest'\n",
      " 'Facebook, YouTube, TikTok'\n",
      " 'Facebook, Twitter, Instagram, YouTube, Reddit, Pinterest, TikTok'\n",
      " 'Facebook, Twitter, Instagram, YouTube, Snapchat, Discord, Pinterest, TikTok'\n",
      " 'Facebook, Instagram, Pinterest'\n",
      " 'Facebook, YouTube, Discord, Reddit, Pinterest'\n",
      " 'Facebook, Twitter, YouTube, Discord, Reddit'\n",
      " 'Facebook, Instagram, YouTube, Discord, Reddit, TikTok'\n",
      " 'Facebook, Discord, Reddit'\n",
      " 'Instagram, Discord, Reddit, Pinterest, TikTok'\n",
      " 'Twitter, Instagram, YouTube, Snapchat, Discord, Reddit, Pinterest, TikTok'\n",
      " 'Facebook, YouTube, Snapchat'\n",
      " 'Facebook, Instagram, YouTube, Snapchat, Discord, Pinterest'\n",
      " 'Facebook, YouTube, Discord, Pinterest'\n",
      " 'Instagram, YouTube, Discord, Reddit, TikTok' 'TikTok'\n",
      " 'Facebook, Twitter, Instagram, YouTube, Snapchat, TikTok'\n",
      " 'Facebook, Instagram, YouTube, Discord, Pinterest, TikTok'\n",
      " 'Facebook, Instagram, Discord'\n",
      " 'Facebook, Twitter, Instagram, YouTube, Discord, Reddit, Pinterest, TikTok'\n",
      " 'Facebook, Twitter, YouTube, Discord, Pinterest' 'Discord'\n",
      " 'Facebook, Instagram, YouTube, Discord, Reddit, Pinterest'\n",
      " 'Facebook, Discord' 'Facebook, TikTok'\n",
      " 'Facebook, Twitter, Instagram, YouTube, Snapchat, Discord, Reddit, TikTok'\n",
      " 'Instagram, YouTube, Discord, Pinterest'\n",
      " 'Facebook, YouTube, Snapchat, Discord'\n",
      " 'Facebook, Twitter, Instagram, YouTube, Discord, Reddit, Pinterest'\n",
      " 'Facebook, Instagram, YouTube, Snapchat, Reddit, Pinterest, TikTok'\n",
      " 'Facebook, Instagram, Snapchat, Pinterest, TikTok'\n",
      " 'Facebook, Twitter, Instagram, YouTube, Reddit, Pinterest'\n",
      " 'Facebook, Twitter, Instagram, Snapchat, Reddit' 'YouTube, Discord'\n",
      " 'Facebook, Instagram, YouTube, Snapchat, Discord, Reddit, TikTok'\n",
      " 'Twitter, Instagram, TikTok'\n",
      " 'Facebook, Instagram, Snapchat, Discord, Pinterest, TikTok'\n",
      " 'YouTube, Pinterest' 'Instagram, YouTube, Discord, Reddit, Pinterest'\n",
      " 'Twitter, Instagram, YouTube, TikTok'\n",
      " 'Facebook, Twitter, Instagram, YouTube, Discord, Pinterest'\n",
      " 'Facebook, Instagram, YouTube, Reddit, Pinterest, TikTok'\n",
      " 'Facebook, Snapchat, Reddit'\n",
      " 'Facebook, Instagram, YouTube, Reddit, Pinterest'\n",
      " 'Facebook, Instagram, YouTube, Reddit, TikTok'\n",
      " 'Facebook, Twitter, YouTube, Pinterest' 'Instagram, Discord'\n",
      " 'Twitter, Instagram, YouTube, Discord, Pinterest'\n",
      " 'Instagram, YouTube, Snapchat, Discord, Reddit, Pinterest, TikTok']\n",
      "['Between 2 and 3 hours' 'More than 5 hours' 'Between 3 and 4 hours'\n",
      " 'Less than an Hour' 'Between 1 and 2 hours' 'Between 4 and 5 hours']\n",
      "[2 1 4 3 5]\n",
      "[2 5 4 3 1]\n",
      "[5 4 3 1 2]\n",
      "[3 2 5 4 1]\n",
      "[5 4 2 3 1]\n",
      "[5 4 3 1 2]\n",
      "[5 4 3 1 2]\n",
      "[4 2 3 5 1]\n",
      "[5 2 1 4 3]\n",
      "[2 5 3 4 1]\n",
      "[3 1 4 2 5]\n",
      "[2 1 3 4 5]\n"
     ]
    }
   ],
   "source": [
    "#What are the unique values in my dataset and are they super weird / to be excluded? \n",
    "for col in data: \n",
    "    print(data[col].unique())"
   ]
  },
  {
   "cell_type": "markdown",
   "metadata": {},
   "source": [
    "### Gender\n",
    "\n",
    "Looks like we have two changes to make in the 'Gender' column: \n",
    "1. Exclude the participant data that gave the \"There are others???\" response\n",
    "2. Change the names of Non-binary entries to have the same format: \"Non-binary\""
   ]
  },
  {
   "cell_type": "code",
   "execution_count": 7,
   "metadata": {},
   "outputs": [
    {
     "name": "stdout",
     "output_type": "stream",
     "text": [
      "['Male' 'Female' 'Other']\n"
     ]
    }
   ],
   "source": [
    "# Dropping the entry \"There are others???\" entry\n",
    "data.drop(data.loc[data['Gender']==\"There are others???\"].index, inplace=True)\n",
    "\n",
    "#Renaming the indices: Nonbinary, NB, Non binary\n",
    "data['Gender'].replace(['Nonbinary ', 'NB', 'Non binary ', 'unsure ', 'Trans', 'Non-binary'], \n",
    "                    ['Other', 'Other', 'Other', 'Other', 'Other', 'Other'], inplace=True)\n",
    "\n",
    "#check that it worked\n",
    "print(data['Gender'].unique())"
   ]
  },
  {
   "cell_type": "markdown",
   "metadata": {},
   "source": [
    "### Age\n",
    "\n",
    "The 'Age' column is a float. So let's convert that."
   ]
  },
  {
   "cell_type": "code",
   "execution_count": 8,
   "metadata": {},
   "outputs": [
    {
     "data": {
      "text/plain": [
       "dtype('int64')"
      ]
     },
     "metadata": {},
     "output_type": "display_data"
    }
   ],
   "source": [
    "#convert float to int\n",
    "data['Age'] = data['Age'].astype(int)\n",
    "\n",
    "#check\n",
    "display(data['Age'].dtypes)"
   ]
  },
  {
   "cell_type": "markdown",
   "metadata": {},
   "source": [
    "### Time Spent\n",
    "\n",
    "I also want to make the time spent on social media more readable. \n",
    "\n",
    "In addition, I want to create a new column, Time Spent (mean), where the values are integers. That way, I can find out whether time spent and mental health scores correlate.\n"
   ]
  },
  {
   "cell_type": "code",
   "execution_count": 9,
   "metadata": {},
   "outputs": [
    {
     "name": "stdout",
     "output_type": "stream",
     "text": [
      "[3 6 4 1 2 5]\n"
     ]
    }
   ],
   "source": [
    "#Create more readable values\n",
    "data['Time Spent'].replace(['Between 2 and 3 hours', 'More than 5 hours', 'Between 3 and 4 hours',\n",
    " 'Less than an Hour', 'Between 1 and 2 hours', 'Between 4 and 5 hours'], ['2-3 hours', '>5 hours', '3-4 hours', '<1 hour', '1-2 hours', '4-5 hours'], inplace=True)\n",
    "\n",
    "#check \n",
    "data['Time Spent'].unique()\n",
    "\n",
    "#Create a column of time spent as an integer.\n",
    "#Specify conditions for our new time values to be assigned.\n",
    "conditions = [\n",
    "    (data['Time Spent'] == '<1 hour'),\n",
    "    (data['Time Spent'] == '1-2 hours'),\n",
    "    (data['Time Spent'] == '2-3 hours'),\n",
    "    (data['Time Spent'] == '3-4 hours'), \n",
    "    (data['Time Spent'] == '4-5 hours'), \n",
    "    (data['Time Spent'] == '>5 hours'), \n",
    "]\n",
    "     \n",
    "#Creating time values using the upper bounds of the range given (to avoid using 0 on the <1 values)\n",
    "time_values = [1, 2, 3, 4, 5, 6]\n",
    "\n",
    "#Create a new column for Time Spent with our new values for each categorical time slot.\n",
    "data['Time (hrs)'] = np.select(conditions, time_values)\n",
    "data.head()\n",
    "\n",
    "#Check that no weird values have popped up\n",
    "print(data['Time (hrs)'].unique())\n"
   ]
  },
  {
   "cell_type": "markdown",
   "metadata": {},
   "source": [
    "## Mental Health Scoring\n",
    "\n",
    "### Self esteem Question 2\n",
    "Our assumption is that higher scores indicate negatively affected mental health. Self esteem question 2 works in reverse, where higher scores are associated with positive mental health. So, we need to convert this question so that the numbers, when summed to a total mental health score, accurately represent that a high score indicates negative effects on mental health. \n",
    "\n",
    "The default score is as follows: \n",
    "Very Negative - 1\n",
    "Slightly Negative - 2\n",
    "Neutral - 3 \n",
    "Slightly Positive - 4\n",
    "Very positive - 5\n",
    "\n",
    "\n",
    "To create an accurate depiction of the effect of social media on mental health, including any positive effects, I will simply reverse the scoring, as seen below: \n",
    "Very Negative - 5\n",
    "Slightly Negative - 4\n",
    "Neutral - 3 \n",
    "Slightly Positive - 2\n",
    "Very positive - 1"
   ]
  },
  {
   "cell_type": "code",
   "execution_count": 10,
   "metadata": {},
   "outputs": [
    {
     "data": {
      "text/html": [
       "<div>\n",
       "<style scoped>\n",
       "    .dataframe tbody tr th:only-of-type {\n",
       "        vertical-align: middle;\n",
       "    }\n",
       "\n",
       "    .dataframe tbody tr th {\n",
       "        vertical-align: top;\n",
       "    }\n",
       "\n",
       "    .dataframe thead th {\n",
       "        text-align: right;\n",
       "    }\n",
       "</style>\n",
       "<table border=\"1\" class=\"dataframe\">\n",
       "  <thead>\n",
       "    <tr style=\"text-align: right;\">\n",
       "      <th></th>\n",
       "      <th>Age</th>\n",
       "      <th>Gender</th>\n",
       "      <th>Relationship Status</th>\n",
       "      <th>Occupation</th>\n",
       "      <th>Affiliations</th>\n",
       "      <th>Use Social Media</th>\n",
       "      <th>Platforms Used</th>\n",
       "      <th>Time Spent</th>\n",
       "      <th>Anxiety Q1</th>\n",
       "      <th>Anxiety Q2</th>\n",
       "      <th>...</th>\n",
       "      <th>Attention Q2</th>\n",
       "      <th>Attention Q3</th>\n",
       "      <th>Attention Q4</th>\n",
       "      <th>Depression Q1</th>\n",
       "      <th>Depression Q2</th>\n",
       "      <th>Depression Q3</th>\n",
       "      <th>Self Esteem Q1</th>\n",
       "      <th>Self Esteem Q2</th>\n",
       "      <th>Self Esteem Q3</th>\n",
       "      <th>Time (hrs)</th>\n",
       "    </tr>\n",
       "  </thead>\n",
       "  <tbody>\n",
       "    <tr>\n",
       "      <th>0</th>\n",
       "      <td>21</td>\n",
       "      <td>Male</td>\n",
       "      <td>In a relationship</td>\n",
       "      <td>University Student</td>\n",
       "      <td>University</td>\n",
       "      <td>Yes</td>\n",
       "      <td>Facebook, Twitter, Instagram, YouTube, Discord...</td>\n",
       "      <td>2-3 hours</td>\n",
       "      <td>2</td>\n",
       "      <td>2</td>\n",
       "      <td>...</td>\n",
       "      <td>3</td>\n",
       "      <td>5</td>\n",
       "      <td>5</td>\n",
       "      <td>5</td>\n",
       "      <td>4</td>\n",
       "      <td>5</td>\n",
       "      <td>2</td>\n",
       "      <td>3</td>\n",
       "      <td>2</td>\n",
       "      <td>3</td>\n",
       "    </tr>\n",
       "    <tr>\n",
       "      <th>1</th>\n",
       "      <td>21</td>\n",
       "      <td>Female</td>\n",
       "      <td>Single</td>\n",
       "      <td>University Student</td>\n",
       "      <td>University</td>\n",
       "      <td>Yes</td>\n",
       "      <td>Facebook, Twitter, Instagram, YouTube, Discord...</td>\n",
       "      <td>&gt;5 hours</td>\n",
       "      <td>2</td>\n",
       "      <td>5</td>\n",
       "      <td>...</td>\n",
       "      <td>3</td>\n",
       "      <td>4</td>\n",
       "      <td>4</td>\n",
       "      <td>5</td>\n",
       "      <td>4</td>\n",
       "      <td>5</td>\n",
       "      <td>5</td>\n",
       "      <td>5</td>\n",
       "      <td>1</td>\n",
       "      <td>6</td>\n",
       "    </tr>\n",
       "    <tr>\n",
       "      <th>2</th>\n",
       "      <td>21</td>\n",
       "      <td>Female</td>\n",
       "      <td>Single</td>\n",
       "      <td>University Student</td>\n",
       "      <td>University</td>\n",
       "      <td>Yes</td>\n",
       "      <td>Facebook, Instagram, YouTube, Pinterest</td>\n",
       "      <td>3-4 hours</td>\n",
       "      <td>1</td>\n",
       "      <td>5</td>\n",
       "      <td>...</td>\n",
       "      <td>2</td>\n",
       "      <td>2</td>\n",
       "      <td>4</td>\n",
       "      <td>4</td>\n",
       "      <td>2</td>\n",
       "      <td>5</td>\n",
       "      <td>3</td>\n",
       "      <td>3</td>\n",
       "      <td>1</td>\n",
       "      <td>4</td>\n",
       "    </tr>\n",
       "    <tr>\n",
       "      <th>3</th>\n",
       "      <td>21</td>\n",
       "      <td>Female</td>\n",
       "      <td>Single</td>\n",
       "      <td>University Student</td>\n",
       "      <td>University</td>\n",
       "      <td>Yes</td>\n",
       "      <td>Facebook, Instagram</td>\n",
       "      <td>&gt;5 hours</td>\n",
       "      <td>1</td>\n",
       "      <td>5</td>\n",
       "      <td>...</td>\n",
       "      <td>2</td>\n",
       "      <td>3</td>\n",
       "      <td>3</td>\n",
       "      <td>4</td>\n",
       "      <td>3</td>\n",
       "      <td>2</td>\n",
       "      <td>5</td>\n",
       "      <td>5</td>\n",
       "      <td>2</td>\n",
       "      <td>6</td>\n",
       "    </tr>\n",
       "    <tr>\n",
       "      <th>4</th>\n",
       "      <td>21</td>\n",
       "      <td>Female</td>\n",
       "      <td>Single</td>\n",
       "      <td>University Student</td>\n",
       "      <td>University</td>\n",
       "      <td>Yes</td>\n",
       "      <td>Facebook, Instagram, YouTube</td>\n",
       "      <td>2-3 hours</td>\n",
       "      <td>4</td>\n",
       "      <td>5</td>\n",
       "      <td>...</td>\n",
       "      <td>5</td>\n",
       "      <td>4</td>\n",
       "      <td>5</td>\n",
       "      <td>4</td>\n",
       "      <td>4</td>\n",
       "      <td>1</td>\n",
       "      <td>3</td>\n",
       "      <td>3</td>\n",
       "      <td>3</td>\n",
       "      <td>3</td>\n",
       "    </tr>\n",
       "  </tbody>\n",
       "</table>\n",
       "<p>5 rows × 21 columns</p>\n",
       "</div>"
      ],
      "text/plain": [
       "   Age  Gender Relationship Status          Occupation Affiliations  \\\n",
       "0   21    Male   In a relationship  University Student   University   \n",
       "1   21  Female              Single  University Student   University   \n",
       "2   21  Female              Single  University Student   University   \n",
       "3   21  Female              Single  University Student   University   \n",
       "4   21  Female              Single  University Student   University   \n",
       "\n",
       "  Use Social Media                                     Platforms Used  \\\n",
       "0              Yes  Facebook, Twitter, Instagram, YouTube, Discord...   \n",
       "1              Yes  Facebook, Twitter, Instagram, YouTube, Discord...   \n",
       "2              Yes            Facebook, Instagram, YouTube, Pinterest   \n",
       "3              Yes                                Facebook, Instagram   \n",
       "4              Yes                       Facebook, Instagram, YouTube   \n",
       "\n",
       "  Time Spent  Anxiety Q1  Anxiety Q2  ...  Attention Q2  Attention Q3  \\\n",
       "0  2-3 hours           2           2  ...             3             5   \n",
       "1   >5 hours           2           5  ...             3             4   \n",
       "2  3-4 hours           1           5  ...             2             2   \n",
       "3   >5 hours           1           5  ...             2             3   \n",
       "4  2-3 hours           4           5  ...             5             4   \n",
       "\n",
       "   Attention Q4  Depression Q1  Depression Q2  Depression Q3  Self Esteem Q1  \\\n",
       "0             5              5              4              5               2   \n",
       "1             4              5              4              5               5   \n",
       "2             4              4              2              5               3   \n",
       "3             3              4              3              2               5   \n",
       "4             5              4              4              1               3   \n",
       "\n",
       "   Self Esteem Q2  Self Esteem Q3  Time (hrs)  \n",
       "0               3               2           3  \n",
       "1               5               1           6  \n",
       "2               3               1           4  \n",
       "3               5               2           6  \n",
       "4               3               3           3  \n",
       "\n",
       "[5 rows x 21 columns]"
      ]
     },
     "execution_count": 10,
     "metadata": {},
     "output_type": "execute_result"
    }
   ],
   "source": [
    "#Create conditions again\n",
    "\n",
    "selfesteem_conditions = [\n",
    "    (data['Self Esteem Q2'] == 1), \n",
    "    (data['Self Esteem Q2'] == 2), \n",
    "    (data['Self Esteem Q2'] == 3), \n",
    "    (data['Self Esteem Q2'] == 4), \n",
    "    (data['Self Esteem Q2'] == 5)\n",
    "]\n",
    "\n",
    "new_esteem_values = [5, 4, 3, 2, 1]\n",
    "\n",
    "#assign new values in the self esteem column\n",
    "data['Self Esteem Q2'] = np.select(selfesteem_conditions, new_esteem_values)\n",
    "data.head()"
   ]
  },
  {
   "cell_type": "markdown",
   "metadata": {},
   "source": [
    "## Total Scores for Mental Health\n",
    "\n",
    "To find out broadly how social media affects mental well being, let's get a total score from all the questionnaires. To dig deeper into potential interactions of mental health with each category (depression, attention, self-esteem), let's create new columns for these separate totals, too."
   ]
  },
  {
   "cell_type": "code",
   "execution_count": 11,
   "metadata": {},
   "outputs": [
    {
     "data": {
      "text/html": [
       "<div>\n",
       "<style scoped>\n",
       "    .dataframe tbody tr th:only-of-type {\n",
       "        vertical-align: middle;\n",
       "    }\n",
       "\n",
       "    .dataframe tbody tr th {\n",
       "        vertical-align: top;\n",
       "    }\n",
       "\n",
       "    .dataframe thead th {\n",
       "        text-align: right;\n",
       "    }\n",
       "</style>\n",
       "<table border=\"1\" class=\"dataframe\">\n",
       "  <thead>\n",
       "    <tr style=\"text-align: right;\">\n",
       "      <th></th>\n",
       "      <th>Age</th>\n",
       "      <th>Gender</th>\n",
       "      <th>Relationship Status</th>\n",
       "      <th>Occupation</th>\n",
       "      <th>Affiliations</th>\n",
       "      <th>Use Social Media</th>\n",
       "      <th>Platforms Used</th>\n",
       "      <th>Time Spent</th>\n",
       "      <th>Anxiety Q1</th>\n",
       "      <th>Anxiety Q2</th>\n",
       "      <th>...</th>\n",
       "      <th>Depression Q3</th>\n",
       "      <th>Self Esteem Q1</th>\n",
       "      <th>Self Esteem Q2</th>\n",
       "      <th>Self Esteem Q3</th>\n",
       "      <th>Time (hrs)</th>\n",
       "      <th>Total Anxiety Score</th>\n",
       "      <th>Total Attention Score</th>\n",
       "      <th>Total Depression Score</th>\n",
       "      <th>Total Self Esteem Score</th>\n",
       "      <th>Total Score</th>\n",
       "    </tr>\n",
       "  </thead>\n",
       "  <tbody>\n",
       "    <tr>\n",
       "      <th>0</th>\n",
       "      <td>21</td>\n",
       "      <td>Male</td>\n",
       "      <td>In a relationship</td>\n",
       "      <td>University Student</td>\n",
       "      <td>University</td>\n",
       "      <td>Yes</td>\n",
       "      <td>Facebook, Twitter, Instagram, YouTube, Discord...</td>\n",
       "      <td>2-3 hours</td>\n",
       "      <td>2</td>\n",
       "      <td>2</td>\n",
       "      <td>...</td>\n",
       "      <td>5</td>\n",
       "      <td>2</td>\n",
       "      <td>3</td>\n",
       "      <td>2</td>\n",
       "      <td>3</td>\n",
       "      <td>4</td>\n",
       "      <td>18</td>\n",
       "      <td>14</td>\n",
       "      <td>7</td>\n",
       "      <td>43</td>\n",
       "    </tr>\n",
       "    <tr>\n",
       "      <th>1</th>\n",
       "      <td>21</td>\n",
       "      <td>Female</td>\n",
       "      <td>Single</td>\n",
       "      <td>University Student</td>\n",
       "      <td>University</td>\n",
       "      <td>Yes</td>\n",
       "      <td>Facebook, Twitter, Instagram, YouTube, Discord...</td>\n",
       "      <td>&gt;5 hours</td>\n",
       "      <td>2</td>\n",
       "      <td>5</td>\n",
       "      <td>...</td>\n",
       "      <td>5</td>\n",
       "      <td>5</td>\n",
       "      <td>5</td>\n",
       "      <td>1</td>\n",
       "      <td>6</td>\n",
       "      <td>7</td>\n",
       "      <td>15</td>\n",
       "      <td>14</td>\n",
       "      <td>11</td>\n",
       "      <td>47</td>\n",
       "    </tr>\n",
       "    <tr>\n",
       "      <th>2</th>\n",
       "      <td>21</td>\n",
       "      <td>Female</td>\n",
       "      <td>Single</td>\n",
       "      <td>University Student</td>\n",
       "      <td>University</td>\n",
       "      <td>Yes</td>\n",
       "      <td>Facebook, Instagram, YouTube, Pinterest</td>\n",
       "      <td>3-4 hours</td>\n",
       "      <td>1</td>\n",
       "      <td>5</td>\n",
       "      <td>...</td>\n",
       "      <td>5</td>\n",
       "      <td>3</td>\n",
       "      <td>3</td>\n",
       "      <td>1</td>\n",
       "      <td>4</td>\n",
       "      <td>6</td>\n",
       "      <td>11</td>\n",
       "      <td>11</td>\n",
       "      <td>7</td>\n",
       "      <td>35</td>\n",
       "    </tr>\n",
       "    <tr>\n",
       "      <th>3</th>\n",
       "      <td>21</td>\n",
       "      <td>Female</td>\n",
       "      <td>Single</td>\n",
       "      <td>University Student</td>\n",
       "      <td>University</td>\n",
       "      <td>Yes</td>\n",
       "      <td>Facebook, Instagram</td>\n",
       "      <td>&gt;5 hours</td>\n",
       "      <td>1</td>\n",
       "      <td>5</td>\n",
       "      <td>...</td>\n",
       "      <td>2</td>\n",
       "      <td>5</td>\n",
       "      <td>5</td>\n",
       "      <td>2</td>\n",
       "      <td>6</td>\n",
       "      <td>6</td>\n",
       "      <td>12</td>\n",
       "      <td>9</td>\n",
       "      <td>12</td>\n",
       "      <td>39</td>\n",
       "    </tr>\n",
       "    <tr>\n",
       "      <th>4</th>\n",
       "      <td>21</td>\n",
       "      <td>Female</td>\n",
       "      <td>Single</td>\n",
       "      <td>University Student</td>\n",
       "      <td>University</td>\n",
       "      <td>Yes</td>\n",
       "      <td>Facebook, Instagram, YouTube</td>\n",
       "      <td>2-3 hours</td>\n",
       "      <td>4</td>\n",
       "      <td>5</td>\n",
       "      <td>...</td>\n",
       "      <td>1</td>\n",
       "      <td>3</td>\n",
       "      <td>3</td>\n",
       "      <td>3</td>\n",
       "      <td>3</td>\n",
       "      <td>9</td>\n",
       "      <td>17</td>\n",
       "      <td>9</td>\n",
       "      <td>9</td>\n",
       "      <td>44</td>\n",
       "    </tr>\n",
       "  </tbody>\n",
       "</table>\n",
       "<p>5 rows × 26 columns</p>\n",
       "</div>"
      ],
      "text/plain": [
       "   Age  Gender Relationship Status          Occupation Affiliations  \\\n",
       "0   21    Male   In a relationship  University Student   University   \n",
       "1   21  Female              Single  University Student   University   \n",
       "2   21  Female              Single  University Student   University   \n",
       "3   21  Female              Single  University Student   University   \n",
       "4   21  Female              Single  University Student   University   \n",
       "\n",
       "  Use Social Media                                     Platforms Used  \\\n",
       "0              Yes  Facebook, Twitter, Instagram, YouTube, Discord...   \n",
       "1              Yes  Facebook, Twitter, Instagram, YouTube, Discord...   \n",
       "2              Yes            Facebook, Instagram, YouTube, Pinterest   \n",
       "3              Yes                                Facebook, Instagram   \n",
       "4              Yes                       Facebook, Instagram, YouTube   \n",
       "\n",
       "  Time Spent  Anxiety Q1  Anxiety Q2  ...  Depression Q3  Self Esteem Q1  \\\n",
       "0  2-3 hours           2           2  ...              5               2   \n",
       "1   >5 hours           2           5  ...              5               5   \n",
       "2  3-4 hours           1           5  ...              5               3   \n",
       "3   >5 hours           1           5  ...              2               5   \n",
       "4  2-3 hours           4           5  ...              1               3   \n",
       "\n",
       "   Self Esteem Q2  Self Esteem Q3  Time (hrs)  Total Anxiety Score  \\\n",
       "0               3               2           3                    4   \n",
       "1               5               1           6                    7   \n",
       "2               3               1           4                    6   \n",
       "3               5               2           6                    6   \n",
       "4               3               3           3                    9   \n",
       "\n",
       "   Total Attention Score  Total Depression Score  Total Self Esteem Score  \\\n",
       "0                     18                      14                        7   \n",
       "1                     15                      14                       11   \n",
       "2                     11                      11                        7   \n",
       "3                     12                       9                       12   \n",
       "4                     17                       9                        9   \n",
       "\n",
       "   Total Score  \n",
       "0           43  \n",
       "1           47  \n",
       "2           35  \n",
       "3           39  \n",
       "4           44  \n",
       "\n",
       "[5 rows x 26 columns]"
      ]
     },
     "execution_count": 11,
     "metadata": {},
     "output_type": "execute_result"
    }
   ],
   "source": [
    "#Summing anxiety scores\n",
    "data['Total Anxiety Score'] = data['Anxiety Q1'] + data['Anxiety Q2'] \n",
    "\n",
    "#Sum attention scores\n",
    "data['Total Attention Score'] = data['Attention Q1'] + data['Attention Q2'] + data['Attention Q3'] + data['Attention Q4']\n",
    "\n",
    "#Sum Depression Scores \n",
    "data['Total Depression Score'] = data['Depression Q1'] + data['Depression Q2'] + data['Depression Q3']\n",
    "\n",
    "#Sum Self Esteem Scores \n",
    "data['Total Self Esteem Score'] = data['Self Esteem Q1'] + data['Self Esteem Q2'] + data['Self Esteem Q3']\n",
    "\n",
    "#Total mental health score \n",
    "data['Total Score'] = data['Total Self Esteem Score'] + data['Total Depression Score'] + data['Total Attention Score'] + data['Total Anxiety Score']\n",
    "\n",
    "#See the scores\n",
    "data.head()"
   ]
  },
  {
   "cell_type": "markdown",
   "metadata": {},
   "source": [
    "# Data Visualisation Babaaay! \n",
    "\n",
    "We did it. Cleaned and transformed the data. Now, for the real stuff.\n",
    "\n",
    "In this section, let's explore some research questions: \n",
    "1. How does the time spent on social media affect mental health scores? \n",
    "2. How does social media usage and mental health scores differ across demographic groups? \n",
    "\n",
    "## How does time spent on social media affect mental health scores?\n",
    "\n",
    "First, visualising our data before testing for relationships, starting with how much time our participants spend on social media. "
   ]
  },
  {
   "cell_type": "code",
   "execution_count": 12,
   "metadata": {},
   "outputs": [
    {
     "name": "stderr",
     "output_type": "stream",
     "text": [
      "/Users/alexandragilbert/anaconda3/envs/myenv/lib/python3.11/site-packages/seaborn/_oldcore.py:1498: FutureWarning: is_categorical_dtype is deprecated and will be removed in a future version. Use isinstance(dtype, CategoricalDtype) instead\n",
      "  if pd.api.types.is_categorical_dtype(vector):\n",
      "/Users/alexandragilbert/anaconda3/envs/myenv/lib/python3.11/site-packages/seaborn/_oldcore.py:1119: FutureWarning: use_inf_as_na option is deprecated and will be removed in a future version. Convert inf values to NaN before operating instead.\n",
      "  with pd.option_context('mode.use_inf_as_na', True):\n"
     ]
    },
    {
     "data": {
      "text/plain": [
       "0.9073861837387085"
      ]
     },
     "execution_count": 12,
     "metadata": {},
     "output_type": "execute_result"
    },
    {
     "data": {
      "image/png": "[encoded data removed]",
      "text/plain": [
       "<Figure size 640x480 with 1 Axes>"
      ]
     },
     "metadata": {},
     "output_type": "display_data"
    }
   ],
   "source": [
    "#Set the theme and make stuff look good\n",
    "sns.set_theme()\n",
    "\n",
    "#Are the scores normally distributed? Starting with Time spent on social media:\n",
    "sns.histplot(data=data, x=data['Time (hrs)'], bins=6, kde=True).set(\n",
    "    title='Overall Distribution of Time Spent on Social Media')\n",
    "\n",
    "#Shapiro wilkes test just to make sure:\n",
    "res = stats.shapiro(data['Time (hrs)'])\n",
    "res.statistic #gives high value, indicating it's normally distributed."
   ]
  },
  {
   "cell_type": "markdown",
   "metadata": {},
   "source": [
    "We can say that our sample generally spends more than 1 hour on social media per day.\n",
    "\n",
    "## Distribution of total mental health scores\n",
    "\n",
    "Next up, let's see how the mental health scores are distributed in our sample of total participants."
   ]
  },
  {
   "cell_type": "code",
   "execution_count": 13,
   "metadata": {},
   "outputs": [
    {
     "name": "stderr",
     "output_type": "stream",
     "text": [
      "/Users/alexandragilbert/anaconda3/envs/myenv/lib/python3.11/site-packages/seaborn/_oldcore.py:1498: FutureWarning: is_categorical_dtype is deprecated and will be removed in a future version. Use isinstance(dtype, CategoricalDtype) instead\n",
      "  if pd.api.types.is_categorical_dtype(vector):\n",
      "/Users/alexandragilbert/anaconda3/envs/myenv/lib/python3.11/site-packages/seaborn/_oldcore.py:1119: FutureWarning: use_inf_as_na option is deprecated and will be removed in a future version. Convert inf values to NaN before operating instead.\n",
      "  with pd.option_context('mode.use_inf_as_na', True):\n"
     ]
    },
    {
     "data": {
      "text/plain": [
       "[Text(0.5, 1.0, 'Overall Distribution of Total Mental Scores')]"
      ]
     },
     "execution_count": 13,
     "metadata": {},
     "output_type": "execute_result"
    },
    {
     "data": {
      "image/png": "[encoded data removed]",
      "text/plain": [
       "<Figure size 640x480 with 1 Axes>"
      ]
     },
     "metadata": {},
     "output_type": "display_data"
    }
   ],
   "source": [
    "#Now, mental health scores:\n",
    "sns.histplot(data=data, x=data['Total Score'], kde=True).set(\n",
    "    title='Overall Distribution of Total Mental Scores') #graph looks normal."
   ]
  },
  {
   "cell_type": "markdown",
   "metadata": {},
   "source": [
    "## Is there a relationship between mental health scores and time spent on social media? \n",
    "\n",
    "Now that we know that our data is normally distributed, we can visualise whether a relationship exists between time spent on social media and mental health scores."
   ]
  },
  {
   "cell_type": "code",
   "execution_count": 14,
   "metadata": {},
   "outputs": [
    {
     "name": "stderr",
     "output_type": "stream",
     "text": [
      "/Users/alexandragilbert/anaconda3/envs/myenv/lib/python3.11/site-packages/seaborn/_oldcore.py:1498: FutureWarning: is_categorical_dtype is deprecated and will be removed in a future version. Use isinstance(dtype, CategoricalDtype) instead\n",
      "  if pd.api.types.is_categorical_dtype(vector):\n",
      "/Users/alexandragilbert/anaconda3/envs/myenv/lib/python3.11/site-packages/seaborn/_oldcore.py:1498: FutureWarning: is_categorical_dtype is deprecated and will be removed in a future version. Use isinstance(dtype, CategoricalDtype) instead\n",
      "  if pd.api.types.is_categorical_dtype(vector):\n",
      "/Users/alexandragilbert/anaconda3/envs/myenv/lib/python3.11/site-packages/seaborn/_oldcore.py:1498: FutureWarning: is_categorical_dtype is deprecated and will be removed in a future version. Use isinstance(dtype, CategoricalDtype) instead\n",
      "  if pd.api.types.is_categorical_dtype(vector):\n"
     ]
    },
    {
     "data": {
      "text/plain": [
       "[Text(0.5, 1.0, 'Relationship Between Social Media Usage and Mental Health Scores')]"
      ]
     },
     "execution_count": 14,
     "metadata": {},
     "output_type": "execute_result"
    },
    {
     "data": {
      "image/png": "[encoded data removed]",
      "text/plain": [
       "<Figure size 640x480 with 1 Axes>"
      ]
     },
     "metadata": {},
     "output_type": "display_data"
    }
   ],
   "source": [
    "#Plot time spent on social media versus mental health scores\n",
    "sns.barplot(\n",
    "    data=data, x=data['Time (hrs)'], y=data['Total Score']).set(\n",
    "        title='Relationship Between Social Media Usage and Mental Health Scores')"
   ]
  },
  {
   "cell_type": "markdown",
   "metadata": {},
   "source": [
    "From the bar plot, it looks like there's a positive, linear relationship between time spent on social media and mental health scores. Pearson's correlation coefficient can assist with testing this hypothesis."
   ]
  },
  {
   "cell_type": "code",
   "execution_count": 15,
   "metadata": {},
   "outputs": [
    {
     "data": {
      "text/plain": [
       "0.4527834010484766"
      ]
     },
     "execution_count": 15,
     "metadata": {},
     "output_type": "execute_result"
    }
   ],
   "source": [
    "#Using Pearson's Coefficient to determine whether this really is a linear relationship\n",
    "pcoeff = stats.pearsonr(data['Time (hrs)'], \n",
    "                        data['Total Score'])\n",
    "pcoeff.statistic #test statistic indicates a positive, linear relationship (r=0.45)"
   ]
  },
  {
   "cell_type": "markdown",
   "metadata": {},
   "source": [
    "So there's a positive correlation between social media usage (in hours) and mental health scores. This is incredibly general though. We're not sure which attributes of the participants are related to mental health scores."
   ]
  },
  {
   "cell_type": "markdown",
   "metadata": {},
   "source": [
    "## Mental Health Scores by Demographic\n",
    "Let's start with age."
   ]
  },
  {
   "cell_type": "code",
   "execution_count": 16,
   "metadata": {},
   "outputs": [
    {
     "name": "stderr",
     "output_type": "stream",
     "text": [
      "/Users/alexandragilbert/anaconda3/envs/myenv/lib/python3.11/site-packages/seaborn/_oldcore.py:1498: FutureWarning: is_categorical_dtype is deprecated and will be removed in a future version. Use isinstance(dtype, CategoricalDtype) instead\n",
      "  if pd.api.types.is_categorical_dtype(vector):\n",
      "/Users/alexandragilbert/anaconda3/envs/myenv/lib/python3.11/site-packages/seaborn/_oldcore.py:1119: FutureWarning: use_inf_as_na option is deprecated and will be removed in a future version. Convert inf values to NaN before operating instead.\n",
      "  with pd.option_context('mode.use_inf_as_na', True):\n"
     ]
    },
    {
     "data": {
      "text/plain": [
       "1.8602765333270305e-27"
      ]
     },
     "execution_count": 16,
     "metadata": {},
     "output_type": "execute_result"
    },
    {
     "data": {
      "image/png": "[encoded data removed]",
      "text/plain": [
       "<Figure size 640x480 with 1 Axes>"
      ]
     },
     "metadata": {},
     "output_type": "display_data"
    }
   ],
   "source": [
    "sns.histplot(data=data, x=data['Age'], kde=True).set(\n",
    "    title='Ages of participants')\n",
    "\n",
    "res = stats.shapiro(data['Age'])\n",
    "res.pvalue"
   ]
  },
  {
   "cell_type": "markdown",
   "metadata": {},
   "source": [
    "Age x Mental health"
   ]
  },
  {
   "cell_type": "code",
   "execution_count": 17,
   "metadata": {},
   "outputs": [
    {
     "name": "stderr",
     "output_type": "stream",
     "text": [
      "/Users/alexandragilbert/anaconda3/envs/myenv/lib/python3.11/site-packages/seaborn/_oldcore.py:1498: FutureWarning: is_categorical_dtype is deprecated and will be removed in a future version. Use isinstance(dtype, CategoricalDtype) instead\n",
      "  if pd.api.types.is_categorical_dtype(vector):\n",
      "/Users/alexandragilbert/anaconda3/envs/myenv/lib/python3.11/site-packages/seaborn/_oldcore.py:1498: FutureWarning: is_categorical_dtype is deprecated and will be removed in a future version. Use isinstance(dtype, CategoricalDtype) instead\n",
      "  if pd.api.types.is_categorical_dtype(vector):\n"
     ]
    },
    {
     "data": {
      "text/plain": [
       "<Axes: xlabel='Age', ylabel='Total Score'>"
      ]
     },
     "execution_count": 17,
     "metadata": {},
     "output_type": "execute_result"
    },
    {
     "data": {
      "image/png": "[encoded data removed]",
      "text/plain": [
       "<Figure size 640x480 with 1 Axes>"
      ]
     },
     "metadata": {},
     "output_type": "display_data"
    }
   ],
   "source": [
    "sns.scatterplot(data=data, x=data['Age'], y=data['Total Score'])"
   ]
  },
  {
   "cell_type": "markdown",
   "metadata": {},
   "source": [
    "Gender x Mental health"
   ]
  },
  {
   "cell_type": "code",
   "execution_count": 18,
   "metadata": {},
   "outputs": [
    {
     "data": {
      "text/plain": [
       "Text(0.5, 1.0, 'Gender Distribution')"
      ]
     },
     "execution_count": 18,
     "metadata": {},
     "output_type": "execute_result"
    },
    {
     "data": {
      "image/png": "[encoded data removed]",
      "text/plain": [
       "<Figure size 640x480 with 1 Axes>"
      ]
     },
     "metadata": {},
     "output_type": "display_data"
    }
   ],
   "source": [
    "#pie chart of gender distribution\n",
    "gender_counts = data['Gender'].value_counts()\n",
    "plt.pie(gender_counts, autopct='%1.1f%%', startangle=140)\n",
    "plt.legend(gender_counts.index, \n",
    "           title=\"Gender\", \n",
    "           loc=\"center left\", bbox_to_anchor=(1, 0.5))\n",
    "plt.title(\"Gender Distribution\")"
   ]
  },
  {
   "cell_type": "markdown",
   "metadata": {},
   "source": [
    "We can see that our data is relatively even in terms of the male to female ratio, with a small sample of participants in our \"Other\" category.\n",
    "\n",
    "## Relationship between Mental Health Scores and Gender"
   ]
  },
  {
   "cell_type": "code",
   "execution_count": null,
   "metadata": {},
   "outputs": [],
   "source": [
    "#Create a violin plot to show distribution of data and their means to explore whether there are inherent differences per gender.\n",
    "sns.violinplot(data=data, x=data['Gender'], \n",
    "               y=data['Total Score']).set(\n",
    "                   title='Total Mental Health Scores by Gender')"
   ]
  },
  {
   "cell_type": "markdown",
   "metadata": {},
   "source": [
    "Relationship Status x Mental health\n"
   ]
  },
  {
   "cell_type": "code",
   "execution_count": 23,
   "metadata": {},
   "outputs": [
    {
     "data": {
      "text/plain": [
       "Text(0.5, 1.0, 'Relationship Status Distribution')"
      ]
     },
     "execution_count": 23,
     "metadata": {},
     "output_type": "execute_result"
    },
    {
     "data": {
      "image/png": "[encoded data removed]",
      "text/plain": [
       "<Figure size 640x480 with 1 Axes>"
      ]
     },
     "metadata": {},
     "output_type": "display_data"
    }
   ],
   "source": [
    "rel_counts = data['Relationship Status'].value_counts()\n",
    "plt.pie(rel_counts, autopct='%1.1f%%', startangle=140)\n",
    "plt.legend(rel_counts.index, \n",
    "           title=\"Gender\", \n",
    "           loc=\"center left\", bbox_to_anchor=(1, 0.5))\n",
    "plt.title(\"Relationship Status Distribution\")\n"
   ]
  },
  {
   "cell_type": "markdown",
   "metadata": {},
   "source": [
    "now to see relationship with mental health if any"
   ]
  },
  {
   "cell_type": "code",
   "execution_count": 22,
   "metadata": {},
   "outputs": [
    {
     "name": "stderr",
     "output_type": "stream",
     "text": [
      "/Users/alexandragilbert/anaconda3/envs/myenv/lib/python3.11/site-packages/seaborn/_oldcore.py:1498: FutureWarning: is_categorical_dtype is deprecated and will be removed in a future version. Use isinstance(dtype, CategoricalDtype) instead\n",
      "  if pd.api.types.is_categorical_dtype(vector):\n",
      "/Users/alexandragilbert/anaconda3/envs/myenv/lib/python3.11/site-packages/seaborn/_oldcore.py:1498: FutureWarning: is_categorical_dtype is deprecated and will be removed in a future version. Use isinstance(dtype, CategoricalDtype) instead\n",
      "  if pd.api.types.is_categorical_dtype(vector):\n",
      "/Users/alexandragilbert/anaconda3/envs/myenv/lib/python3.11/site-packages/seaborn/_oldcore.py:1498: FutureWarning: is_categorical_dtype is deprecated and will be removed in a future version. Use isinstance(dtype, CategoricalDtype) instead\n",
      "  if pd.api.types.is_categorical_dtype(vector):\n"
     ]
    },
    {
     "data": {
      "text/plain": [
       "[Text(0.5, 1.0, 'Total Mental Health Scores by Relationship Status')]"
      ]
     },
     "execution_count": 22,
     "metadata": {},
     "output_type": "execute_result"
    },
    {
     "data": {
      "image/png": "[encoded data removed]",
      "text/plain": [
       "<Figure size 640x480 with 1 Axes>"
      ]
     },
     "metadata": {},
     "output_type": "display_data"
    }
   ],
   "source": [
    "#Create a violin plot to show distribution of data and their means to explore whether there are inherent differences per gender.\n",
    "sns.violinplot(data=data, x=data['Relationship Status'], \n",
    "               y=data['Total Score']).set(\n",
    "                   title='Total Mental Health Scores by Relationship Status')"
   ]
  }
 ],
 "metadata": {
  "kernelspec": {
   "display_name": "myenv",
   "language": "python",
   "name": "python3"
  },
  "language_info": {
   "codemirror_mode": {
    "name": "ipython",
    "version": 3
   },
   "file_extension": ".py",
   "mimetype": "text/x-python",
   "name": "python",
   "nbconvert_exporter": "python",
   "pygments_lexer": "ipython3",
   "version": "3.11.5"
  }
 },
 "nbformat": 4,
 "nbformat_minor": 2
}
